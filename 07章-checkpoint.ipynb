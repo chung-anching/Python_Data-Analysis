{
 "cells": [
  {
   "cell_type": "markdown",
   "metadata": {},
   "source": [
    "## 0702 分類資料的準備"
   ]
  },
  {
   "cell_type": "markdown",
   "metadata": {},
   "source": [
    "### 監督式學習:     我們有一組知道答案的訓練資料 ex. SVM\n",
    "### 非監督式學習: 我們不知道答案，電腦要去自己學 ex.K-Means"
   ]
  },
  {
   "cell_type": "code",
   "execution_count": 100,
   "metadata": {},
   "outputs": [],
   "source": [
    "%matplotlib inline\n",
    "import numpy as np\n",
    "import matplotlib.pyplot as plt"
   ]
  },
  {
   "cell_type": "markdown",
   "metadata": {},
   "source": [
    "## 用SVM來做分類\n",
    "### 準備一些已經知道分類的資料給他\n",
    "### 假設我們有四個點，有兩個類別"
   ]
  },
  {
   "cell_type": "markdown",
   "metadata": {},
   "source": [
    "### 需要把x中 點的x座標 y座標 分成兩個list"
   ]
  },
  {
   "cell_type": "code",
   "execution_count": 101,
   "metadata": {},
   "outputs": [],
   "source": [
    "#假設我們資料都是二維的 可在平面上表示\n",
    "x = np.array([[-3,2],[-6,5],[3,-4],[2,-8]])\n",
    "y = np.array([1, 1, 2, 2])               #分成兩類(1 or 2)"
   ]
  },
  {
   "cell_type": "code",
   "execution_count": 102,
   "metadata": {
    "scrolled": true
   },
   "outputs": [
    {
     "data": {
      "text/plain": [
       "<matplotlib.collections.PathCollection at 0x2875adc6ee0>"
      ]
     },
     "execution_count": 102,
     "metadata": {},
     "output_type": "execute_result"
    },
    {
     "data": {
      "image/png": "[encoded data removed]",
      "text/plain": [
       "<Figure size 432x288 with 1 Axes>"
      ]
     },
     "metadata": {
      "needs_background": "light"
     },
     "output_type": "display_data"
    }
   ],
   "source": [
    "plt.scatter([-3,-6,3,2],[2,5,-4,-8])\n",
    "#沒有顏色"
   ]
  },
  {
   "cell_type": "code",
   "execution_count": 103,
   "metadata": {},
   "outputs": [
    {
     "data": {
      "text/plain": [
       "<matplotlib.collections.PathCollection at 0x2875ae487f0>"
      ]
     },
     "execution_count": 103,
     "metadata": {},
     "output_type": "execute_result"
    },
    {
     "data": {
      "image/png": "[encoded data removed]",
      "text/plain": [
       "<Figure size 432x288 with 1 Axes>"
      ]
     },
     "metadata": {
      "needs_background": "light"
     },
     "output_type": "display_data"
    }
   ],
   "source": [
    "plt.scatter([-3,-6,3,2],[2,5,-4,-8],c=[1,1,2,2])  #c=[1,1,2,2] : 一一告訴她顏色要標的幾類\n",
    "#用顏色分類"
   ]
  },
  {
   "cell_type": "code",
   "execution_count": 104,
   "metadata": {},
   "outputs": [
    {
     "data": {
      "text/plain": [
       "<matplotlib.collections.PathCollection at 0x2875ae9bc40>"
      ]
     },
     "execution_count": 104,
     "metadata": {},
     "output_type": "execute_result"
    },
    {
     "data": {
      "image/png": "[encoded data removed]",
      "text/plain": [
       "<Figure size 432x288 with 1 Axes>"
      ]
     },
     "metadata": {
      "needs_background": "light"
     },
     "output_type": "display_data"
    }
   ],
   "source": [
    "plt.scatter([-3,-6,3,2],[2,5,-4,-8],c=y)  #c=[1,1,2,2] =y"
   ]
  },
  {
   "cell_type": "code",
   "execution_count": 105,
   "metadata": {},
   "outputs": [],
   "source": [
    "#如果點很多怎麼辦\n"
   ]
  },
  {
   "cell_type": "code",
   "execution_count": 106,
   "metadata": {},
   "outputs": [
    {
     "data": {
      "text/plain": [
       "array([[-3,  2],\n",
       "       [-6,  5],\n",
       "       [ 3, -4],\n",
       "       [ 2, -8]])"
      ]
     },
     "execution_count": 106,
     "metadata": {},
     "output_type": "execute_result"
    }
   ],
   "source": [
    "x"
   ]
  },
  {
   "cell_type": "code",
   "execution_count": 107,
   "metadata": {},
   "outputs": [
    {
     "data": {
      "text/plain": [
       "-4"
      ]
     },
     "execution_count": 107,
     "metadata": {},
     "output_type": "execute_result"
    }
   ],
   "source": [
    "x[2,1]"
   ]
  },
  {
   "cell_type": "code",
   "execution_count": 108,
   "metadata": {},
   "outputs": [
    {
     "data": {
      "text/plain": [
       "array([ 2,  5, -4, -8])"
      ]
     },
     "execution_count": 108,
     "metadata": {},
     "output_type": "execute_result"
    }
   ],
   "source": [
    "#所有的列都需要 => 一次找到所有的y\n",
    "x[:,1]"
   ]
  },
  {
   "cell_type": "code",
   "execution_count": 146,
   "metadata": {},
   "outputs": [
    {
     "data": {
      "text/plain": [
       "<matplotlib.collections.PathCollection at 0x2875b0bc340>"
      ]
     },
     "execution_count": 146,
     "metadata": {},
     "output_type": "execute_result"
    },
    {
     "data": {
      "image/png": "[encoded data removed]",
      "text/plain": [
       "<Figure size 432x288 with 1 Axes>"
      ]
     },
     "metadata": {
      "needs_background": "light"
     },
     "output_type": "display_data"
    }
   ],
   "source": [
    "#更簡單地把圖畫出來\n",
    "plt.scatter(x[:,0],x[:,1],c=y)"
   ]
  },
  {
   "cell_type": "code",
   "execution_count": 110,
   "metadata": {},
   "outputs": [
    {
     "data": {
      "text/plain": [
       "<matplotlib.collections.PathCollection at 0x2875aef7610>"
      ]
     },
     "execution_count": 110,
     "metadata": {},
     "output_type": "execute_result"
    },
    {
     "data": {
      "image/png": "[encoded data removed]",
      "text/plain": [
       "<Figure size 432x288 with 1 Axes>"
      ]
     },
     "metadata": {
      "needs_background": "light"
     },
     "output_type": "display_data"
    }
   ],
   "source": [
    "plt.scatter(x[:,0],x[:,1],s=70, c=y) #s=70: 設定點的大小   c=y: 指定不同類別有不同顏色"
   ]
  },
  {
   "cell_type": "markdown",
   "metadata": {},
   "source": [
    "## 0703 用SVM做分類"
   ]
  },
  {
   "cell_type": "code",
   "execution_count": 111,
   "metadata": {},
   "outputs": [
    {
     "data": {
      "text/plain": [
       "array([1, 1, 2, 2])"
      ]
     },
     "execution_count": 111,
     "metadata": {},
     "output_type": "execute_result"
    }
   ],
   "source": [
    "y"
   ]
  },
  {
   "cell_type": "markdown",
   "metadata": {},
   "source": [
    "## SVM支持向量機   用曲線把資料分隔的辦法"
   ]
  },
  {
   "cell_type": "code",
   "execution_count": 112,
   "metadata": {},
   "outputs": [],
   "source": [
    "from sklearn.svm import SVC #讀進來"
   ]
  },
  {
   "cell_type": "code",
   "execution_count": 152,
   "metadata": {},
   "outputs": [],
   "source": [
    "#開一台分類機(clf) 給他\n",
    "clf = SVC()"
   ]
  },
  {
   "cell_type": "markdown",
   "metadata": {},
   "source": [
    "![R](SVC.jpg)"
   ]
  },
  {
   "cell_type": "code",
   "execution_count": 157,
   "metadata": {},
   "outputs": [
    {
     "data": {
      "text/plain": [
       "SVC()"
      ]
     },
     "execution_count": 157,
     "metadata": {},
     "output_type": "execute_result"
    }
   ],
   "source": [
    "clf.fit(x,y)\n",
    "#(x,y): 訓練的資料和正確答案"
   ]
  },
  {
   "cell_type": "markdown",
   "metadata": {},
   "source": [
    "## 預測結果"
   ]
  },
  {
   "cell_type": "code",
   "execution_count": 115,
   "metadata": {},
   "outputs": [
    {
     "data": {
      "text/plain": [
       "array([1])"
      ]
     },
     "execution_count": 115,
     "metadata": {},
     "output_type": "execute_result"
    }
   ],
   "source": [
    "clf.predict([[-3,2]]) #要用list 不能用點predict([-3,2])\n",
    "# 答案也是list"
   ]
  },
  {
   "cell_type": "markdown",
   "metadata": {},
   "source": [
    "![R](svc2.jpg)"
   ]
  },
  {
   "cell_type": "code",
   "execution_count": 116,
   "metadata": {},
   "outputs": [
    {
     "data": {
      "text/plain": [
       "array([1, 1, 2, 2])"
      ]
     },
     "execution_count": 116,
     "metadata": {},
     "output_type": "execute_result"
    }
   ],
   "source": [
    "#把整個x放進去(x本來就是array)\n",
    "clf.predict(x)"
   ]
  },
  {
   "cell_type": "code",
   "execution_count": 117,
   "metadata": {},
   "outputs": [
    {
     "data": {
      "text/plain": [
       "array([1])"
      ]
     },
     "execution_count": 117,
     "metadata": {},
     "output_type": "execute_result"
    }
   ],
   "source": [
    "#以前沒有學過的\n",
    "clf.predict([[2.5,3]])"
   ]
  },
  {
   "cell_type": "markdown",
   "metadata": {},
   "source": [
    "## 0704 完整畫出我們的分類結果"
   ]
  },
  {
   "cell_type": "code",
   "execution_count": 118,
   "metadata": {},
   "outputs": [],
   "source": [
    "#看xvm到底怎麼區分這兩類"
   ]
  },
  {
   "cell_type": "markdown",
   "metadata": {},
   "source": [
    "# 視覺畫我們的成果 meshgrid"
   ]
  },
  {
   "cell_type": "code",
   "execution_count": 119,
   "metadata": {},
   "outputs": [],
   "source": [
    "xx = [1,2,3,4]\n",
    "yy = [5,6,7,8]"
   ]
  },
  {
   "cell_type": "code",
   "execution_count": 120,
   "metadata": {},
   "outputs": [
    {
     "data": {
      "text/plain": [
       "[array([[1, 2, 3, 4],\n",
       "        [1, 2, 3, 4],\n",
       "        [1, 2, 3, 4],\n",
       "        [1, 2, 3, 4]]),\n",
       " array([[5, 5, 5, 5],\n",
       "        [6, 6, 6, 6],\n",
       "        [7, 7, 7, 7],\n",
       "        [8, 8, 8, 8]])]"
      ]
     },
     "execution_count": 120,
     "metadata": {},
     "output_type": "execute_result"
    }
   ],
   "source": [
    "np.meshgrid(xx,yy)"
   ]
  },
  {
   "cell_type": "code",
   "execution_count": 121,
   "metadata": {},
   "outputs": [],
   "source": [
    "A , B = np.meshgrid(xx,yy)"
   ]
  },
  {
   "cell_type": "code",
   "execution_count": 122,
   "metadata": {},
   "outputs": [
    {
     "data": {
      "text/plain": [
       "array([[1, 2, 3, 4],\n",
       "       [1, 2, 3, 4],\n",
       "       [1, 2, 3, 4],\n",
       "       [1, 2, 3, 4]])"
      ]
     },
     "execution_count": 122,
     "metadata": {},
     "output_type": "execute_result"
    }
   ],
   "source": [
    "A"
   ]
  },
  {
   "cell_type": "code",
   "execution_count": 123,
   "metadata": {},
   "outputs": [
    {
     "data": {
      "text/plain": [
       "array([[5, 5, 5, 5],\n",
       "       [6, 6, 6, 6],\n",
       "       [7, 7, 7, 7],\n",
       "       [8, 8, 8, 8]])"
      ]
     },
     "execution_count": 123,
     "metadata": {},
     "output_type": "execute_result"
    }
   ],
   "source": [
    "B"
   ]
  },
  {
   "cell_type": "markdown",
   "metadata": {},
   "source": [
    "![e](meshgrid.jpg)"
   ]
  },
  {
   "cell_type": "code",
   "execution_count": 189,
   "metadata": {},
   "outputs": [],
   "source": [
    "#把格點的座標找出來: 二維陣列\n",
    "C, D = np.meshgrid(np.linspace(-6,3,30),np.linspace(-8,5,30))"
   ]
  },
  {
   "cell_type": "markdown",
   "metadata": {},
   "source": [
    "## ravel 拉平法 (把x的點拉平)"
   ]
  },
  {
   "cell_type": "code",
   "execution_count": 190,
   "metadata": {},
   "outputs": [
    {
     "data": {
      "text/plain": [
       "array([[-6.        , -5.68965517, -5.37931034, -5.06896552, -4.75862069,\n",
       "        -4.44827586, -4.13793103, -3.82758621, -3.51724138, -3.20689655,\n",
       "        -2.89655172, -2.5862069 , -2.27586207, -1.96551724, -1.65517241,\n",
       "        -1.34482759, -1.03448276, -0.72413793, -0.4137931 , -0.10344828,\n",
       "         0.20689655,  0.51724138,  0.82758621,  1.13793103,  1.44827586,\n",
       "         1.75862069,  2.06896552,  2.37931034,  2.68965517,  3.        ],\n",
       "       [-6.        , -5.68965517, -5.37931034, -5.06896552, -4.75862069,\n",
       "        -4.44827586, -4.13793103, -3.82758621, -3.51724138, -3.20689655,\n",
       "        -2.89655172, -2.5862069 , -2.27586207, -1.96551724, -1.65517241,\n",
       "        -1.34482759, -1.03448276, -0.72413793, -0.4137931 , -0.10344828,\n",
       "         0.20689655,  0.51724138,  0.82758621,  1.13793103,  1.44827586,\n",
       "         1.75862069,  2.06896552,  2.37931034,  2.68965517,  3.        ],\n",
       "       [-6.        , -5.68965517, -5.37931034, -5.06896552, -4.75862069,\n",
       "        -4.44827586, -4.13793103, -3.82758621, -3.51724138, -3.20689655,\n",
       "        -2.89655172, -2.5862069 , -2.27586207, -1.96551724, -1.65517241,\n",
       "        -1.34482759, -1.03448276, -0.72413793, -0.4137931 , -0.10344828,\n",
       "         0.20689655,  0.51724138,  0.82758621,  1.13793103,  1.44827586,\n",
       "         1.75862069,  2.06896552,  2.37931034,  2.68965517,  3.        ],\n",
       "       [-6.        , -5.68965517, -5.37931034, -5.06896552, -4.75862069,\n",
       "        -4.44827586, -4.13793103, -3.82758621, -3.51724138, -3.20689655,\n",
       "        -2.89655172, -2.5862069 , -2.27586207, -1.96551724, -1.65517241,\n",
       "        -1.34482759, -1.03448276, -0.72413793, -0.4137931 , -0.10344828,\n",
       "         0.20689655,  0.51724138,  0.82758621,  1.13793103,  1.44827586,\n",
       "         1.75862069,  2.06896552,  2.37931034,  2.68965517,  3.        ],\n",
       "       [-6.        , -5.68965517, -5.37931034, -5.06896552, -4.75862069,\n",
       "        -4.44827586, -4.13793103, -3.82758621, -3.51724138, -3.20689655,\n",
       "        -2.89655172, -2.5862069 , -2.27586207, -1.96551724, -1.65517241,\n",
       "        -1.34482759, -1.03448276, -0.72413793, -0.4137931 , -0.10344828,\n",
       "         0.20689655,  0.51724138,  0.82758621,  1.13793103,  1.44827586,\n",
       "         1.75862069,  2.06896552,  2.37931034,  2.68965517,  3.        ],\n",
       "       [-6.        , -5.68965517, -5.37931034, -5.06896552, -4.75862069,\n",
       "        -4.44827586, -4.13793103, -3.82758621, -3.51724138, -3.20689655,\n",
       "        -2.89655172, -2.5862069 , -2.27586207, -1.96551724, -1.65517241,\n",
       "        -1.34482759, -1.03448276, -0.72413793, -0.4137931 , -0.10344828,\n",
       "         0.20689655,  0.51724138,  0.82758621,  1.13793103,  1.44827586,\n",
       "         1.75862069,  2.06896552,  2.37931034,  2.68965517,  3.        ],\n",
       "       [-6.        , -5.68965517, -5.37931034, -5.06896552, -4.75862069,\n",
       "        -4.44827586, -4.13793103, -3.82758621, -3.51724138, -3.20689655,\n",
       "        -2.89655172, -2.5862069 , -2.27586207, -1.96551724, -1.65517241,\n",
       "        -1.34482759, -1.03448276, -0.72413793, -0.4137931 , -0.10344828,\n",
       "         0.20689655,  0.51724138,  0.82758621,  1.13793103,  1.44827586,\n",
       "         1.75862069,  2.06896552,  2.37931034,  2.68965517,  3.        ],\n",
       "       [-6.        , -5.68965517, -5.37931034, -5.06896552, -4.75862069,\n",
       "        -4.44827586, -4.13793103, -3.82758621, -3.51724138, -3.20689655,\n",
       "        -2.89655172, -2.5862069 , -2.27586207, -1.96551724, -1.65517241,\n",
       "        -1.34482759, -1.03448276, -0.72413793, -0.4137931 , -0.10344828,\n",
       "         0.20689655,  0.51724138,  0.82758621,  1.13793103,  1.44827586,\n",
       "         1.75862069,  2.06896552,  2.37931034,  2.68965517,  3.        ],\n",
       "       [-6.        , -5.68965517, -5.37931034, -5.06896552, -4.75862069,\n",
       "        -4.44827586, -4.13793103, -3.82758621, -3.51724138, -3.20689655,\n",
       "        -2.89655172, -2.5862069 , -2.27586207, -1.96551724, -1.65517241,\n",
       "        -1.34482759, -1.03448276, -0.72413793, -0.4137931 , -0.10344828,\n",
       "         0.20689655,  0.51724138,  0.82758621,  1.13793103,  1.44827586,\n",
       "         1.75862069,  2.06896552,  2.37931034,  2.68965517,  3.        ],\n",
       "       [-6.        , -5.68965517, -5.37931034, -5.06896552, -4.75862069,\n",
       "        -4.44827586, -4.13793103, -3.82758621, -3.51724138, -3.20689655,\n",
       "        -2.89655172, -2.5862069 , -2.27586207, -1.96551724, -1.65517241,\n",
       "        -1.34482759, -1.03448276, -0.72413793, -0.4137931 , -0.10344828,\n",
       "         0.20689655,  0.51724138,  0.82758621,  1.13793103,  1.44827586,\n",
       "         1.75862069,  2.06896552,  2.37931034,  2.68965517,  3.        ],\n",
       "       [-6.        , -5.68965517, -5.37931034, -5.06896552, -4.75862069,\n",
       "        -4.44827586, -4.13793103, -3.82758621, -3.51724138, -3.20689655,\n",
       "        -2.89655172, -2.5862069 , -2.27586207, -1.96551724, -1.65517241,\n",
       "        -1.34482759, -1.03448276, -0.72413793, -0.4137931 , -0.10344828,\n",
       "         0.20689655,  0.51724138,  0.82758621,  1.13793103,  1.44827586,\n",
       "         1.75862069,  2.06896552,  2.37931034,  2.68965517,  3.        ],\n",
       "       [-6.        , -5.68965517, -5.37931034, -5.06896552, -4.75862069,\n",
       "        -4.44827586, -4.13793103, -3.82758621, -3.51724138, -3.20689655,\n",
       "        -2.89655172, -2.5862069 , -2.27586207, -1.96551724, -1.65517241,\n",
       "        -1.34482759, -1.03448276, -0.72413793, -0.4137931 , -0.10344828,\n",
       "         0.20689655,  0.51724138,  0.82758621,  1.13793103,  1.44827586,\n",
       "         1.75862069,  2.06896552,  2.37931034,  2.68965517,  3.        ],\n",
       "       [-6.        , -5.68965517, -5.37931034, -5.06896552, -4.75862069,\n",
       "        -4.44827586, -4.13793103, -3.82758621, -3.51724138, -3.20689655,\n",
       "        -2.89655172, -2.5862069 , -2.27586207, -1.96551724, -1.65517241,\n",
       "        -1.34482759, -1.03448276, -0.72413793, -0.4137931 , -0.10344828,\n",
       "         0.20689655,  0.51724138,  0.82758621,  1.13793103,  1.44827586,\n",
       "         1.75862069,  2.06896552,  2.37931034,  2.68965517,  3.        ],\n",
       "       [-6.        , -5.68965517, -5.37931034, -5.06896552, -4.75862069,\n",
       "        -4.44827586, -4.13793103, -3.82758621, -3.51724138, -3.20689655,\n",
       "        -2.89655172, -2.5862069 , -2.27586207, -1.96551724, -1.65517241,\n",
       "        -1.34482759, -1.03448276, -0.72413793, -0.4137931 , -0.10344828,\n",
       "         0.20689655,  0.51724138,  0.82758621,  1.13793103,  1.44827586,\n",
       "         1.75862069,  2.06896552,  2.37931034,  2.68965517,  3.        ],\n",
       "       [-6.        , -5.68965517, -5.37931034, -5.06896552, -4.75862069,\n",
       "        -4.44827586, -4.13793103, -3.82758621, -3.51724138, -3.20689655,\n",
       "        -2.89655172, -2.5862069 , -2.27586207, -1.96551724, -1.65517241,\n",
       "        -1.34482759, -1.03448276, -0.72413793, -0.4137931 , -0.10344828,\n",
       "         0.20689655,  0.51724138,  0.82758621,  1.13793103,  1.44827586,\n",
       "         1.75862069,  2.06896552,  2.37931034,  2.68965517,  3.        ],\n",
       "       [-6.        , -5.68965517, -5.37931034, -5.06896552, -4.75862069,\n",
       "        -4.44827586, -4.13793103, -3.82758621, -3.51724138, -3.20689655,\n",
       "        -2.89655172, -2.5862069 , -2.27586207, -1.96551724, -1.65517241,\n",
       "        -1.34482759, -1.03448276, -0.72413793, -0.4137931 , -0.10344828,\n",
       "         0.20689655,  0.51724138,  0.82758621,  1.13793103,  1.44827586,\n",
       "         1.75862069,  2.06896552,  2.37931034,  2.68965517,  3.        ],\n",
       "       [-6.        , -5.68965517, -5.37931034, -5.06896552, -4.75862069,\n",
       "        -4.44827586, -4.13793103, -3.82758621, -3.51724138, -3.20689655,\n",
       "        -2.89655172, -2.5862069 , -2.27586207, -1.96551724, -1.65517241,\n",
       "        -1.34482759, -1.03448276, -0.72413793, -0.4137931 , -0.10344828,\n",
       "         0.20689655,  0.51724138,  0.82758621,  1.13793103,  1.44827586,\n",
       "         1.75862069,  2.06896552,  2.37931034,  2.68965517,  3.        ],\n",
       "       [-6.        , -5.68965517, -5.37931034, -5.06896552, -4.75862069,\n",
       "        -4.44827586, -4.13793103, -3.82758621, -3.51724138, -3.20689655,\n",
       "        -2.89655172, -2.5862069 , -2.27586207, -1.96551724, -1.65517241,\n",
       "        -1.34482759, -1.03448276, -0.72413793, -0.4137931 , -0.10344828,\n",
       "         0.20689655,  0.51724138,  0.82758621,  1.13793103,  1.44827586,\n",
       "         1.75862069,  2.06896552,  2.37931034,  2.68965517,  3.        ],\n",
       "       [-6.        , -5.68965517, -5.37931034, -5.06896552, -4.75862069,\n",
       "        -4.44827586, -4.13793103, -3.82758621, -3.51724138, -3.20689655,\n",
       "        -2.89655172, -2.5862069 , -2.27586207, -1.96551724, -1.65517241,\n",
       "        -1.34482759, -1.03448276, -0.72413793, -0.4137931 , -0.10344828,\n",
       "         0.20689655,  0.51724138,  0.82758621,  1.13793103,  1.44827586,\n",
       "         1.75862069,  2.06896552,  2.37931034,  2.68965517,  3.        ],\n",
       "       [-6.        , -5.68965517, -5.37931034, -5.06896552, -4.75862069,\n",
       "        -4.44827586, -4.13793103, -3.82758621, -3.51724138, -3.20689655,\n",
       "        -2.89655172, -2.5862069 , -2.27586207, -1.96551724, -1.65517241,\n",
       "        -1.34482759, -1.03448276, -0.72413793, -0.4137931 , -0.10344828,\n",
       "         0.20689655,  0.51724138,  0.82758621,  1.13793103,  1.44827586,\n",
       "         1.75862069,  2.06896552,  2.37931034,  2.68965517,  3.        ],\n",
       "       [-6.        , -5.68965517, -5.37931034, -5.06896552, -4.75862069,\n",
       "        -4.44827586, -4.13793103, -3.82758621, -3.51724138, -3.20689655,\n",
       "        -2.89655172, -2.5862069 , -2.27586207, -1.96551724, -1.65517241,\n",
       "        -1.34482759, -1.03448276, -0.72413793, -0.4137931 , -0.10344828,\n",
       "         0.20689655,  0.51724138,  0.82758621,  1.13793103,  1.44827586,\n",
       "         1.75862069,  2.06896552,  2.37931034,  2.68965517,  3.        ],\n",
       "       [-6.        , -5.68965517, -5.37931034, -5.06896552, -4.75862069,\n",
       "        -4.44827586, -4.13793103, -3.82758621, -3.51724138, -3.20689655,\n",
       "        -2.89655172, -2.5862069 , -2.27586207, -1.96551724, -1.65517241,\n",
       "        -1.34482759, -1.03448276, -0.72413793, -0.4137931 , -0.10344828,\n",
       "         0.20689655,  0.51724138,  0.82758621,  1.13793103,  1.44827586,\n",
       "         1.75862069,  2.06896552,  2.37931034,  2.68965517,  3.        ],\n",
       "       [-6.        , -5.68965517, -5.37931034, -5.06896552, -4.75862069,\n",
       "        -4.44827586, -4.13793103, -3.82758621, -3.51724138, -3.20689655,\n",
       "        -2.89655172, -2.5862069 , -2.27586207, -1.96551724, -1.65517241,\n",
       "        -1.34482759, -1.03448276, -0.72413793, -0.4137931 , -0.10344828,\n",
       "         0.20689655,  0.51724138,  0.82758621,  1.13793103,  1.44827586,\n",
       "         1.75862069,  2.06896552,  2.37931034,  2.68965517,  3.        ],\n",
       "       [-6.        , -5.68965517, -5.37931034, -5.06896552, -4.75862069,\n",
       "        -4.44827586, -4.13793103, -3.82758621, -3.51724138, -3.20689655,\n",
       "        -2.89655172, -2.5862069 , -2.27586207, -1.96551724, -1.65517241,\n",
       "        -1.34482759, -1.03448276, -0.72413793, -0.4137931 , -0.10344828,\n",
       "         0.20689655,  0.51724138,  0.82758621,  1.13793103,  1.44827586,\n",
       "         1.75862069,  2.06896552,  2.37931034,  2.68965517,  3.        ],\n",
       "       [-6.        , -5.68965517, -5.37931034, -5.06896552, -4.75862069,\n",
       "        -4.44827586, -4.13793103, -3.82758621, -3.51724138, -3.20689655,\n",
       "        -2.89655172, -2.5862069 , -2.27586207, -1.96551724, -1.65517241,\n",
       "        -1.34482759, -1.03448276, -0.72413793, -0.4137931 , -0.10344828,\n",
       "         0.20689655,  0.51724138,  0.82758621,  1.13793103,  1.44827586,\n",
       "         1.75862069,  2.06896552,  2.37931034,  2.68965517,  3.        ],\n",
       "       [-6.        , -5.68965517, -5.37931034, -5.06896552, -4.75862069,\n",
       "        -4.44827586, -4.13793103, -3.82758621, -3.51724138, -3.20689655,\n",
       "        -2.89655172, -2.5862069 , -2.27586207, -1.96551724, -1.65517241,\n",
       "        -1.34482759, -1.03448276, -0.72413793, -0.4137931 , -0.10344828,\n",
       "         0.20689655,  0.51724138,  0.82758621,  1.13793103,  1.44827586,\n",
       "         1.75862069,  2.06896552,  2.37931034,  2.68965517,  3.        ],\n",
       "       [-6.        , -5.68965517, -5.37931034, -5.06896552, -4.75862069,\n",
       "        -4.44827586, -4.13793103, -3.82758621, -3.51724138, -3.20689655,\n",
       "        -2.89655172, -2.5862069 , -2.27586207, -1.96551724, -1.65517241,\n",
       "        -1.34482759, -1.03448276, -0.72413793, -0.4137931 , -0.10344828,\n",
       "         0.20689655,  0.51724138,  0.82758621,  1.13793103,  1.44827586,\n",
       "         1.75862069,  2.06896552,  2.37931034,  2.68965517,  3.        ],\n",
       "       [-6.        , -5.68965517, -5.37931034, -5.06896552, -4.75862069,\n",
       "        -4.44827586, -4.13793103, -3.82758621, -3.51724138, -3.20689655,\n",
       "        -2.89655172, -2.5862069 , -2.27586207, -1.96551724, -1.65517241,\n",
       "        -1.34482759, -1.03448276, -0.72413793, -0.4137931 , -0.10344828,\n",
       "         0.20689655,  0.51724138,  0.82758621,  1.13793103,  1.44827586,\n",
       "         1.75862069,  2.06896552,  2.37931034,  2.68965517,  3.        ],\n",
       "       [-6.        , -5.68965517, -5.37931034, -5.06896552, -4.75862069,\n",
       "        -4.44827586, -4.13793103, -3.82758621, -3.51724138, -3.20689655,\n",
       "        -2.89655172, -2.5862069 , -2.27586207, -1.96551724, -1.65517241,\n",
       "        -1.34482759, -1.03448276, -0.72413793, -0.4137931 , -0.10344828,\n",
       "         0.20689655,  0.51724138,  0.82758621,  1.13793103,  1.44827586,\n",
       "         1.75862069,  2.06896552,  2.37931034,  2.68965517,  3.        ],\n",
       "       [-6.        , -5.68965517, -5.37931034, -5.06896552, -4.75862069,\n",
       "        -4.44827586, -4.13793103, -3.82758621, -3.51724138, -3.20689655,\n",
       "        -2.89655172, -2.5862069 , -2.27586207, -1.96551724, -1.65517241,\n",
       "        -1.34482759, -1.03448276, -0.72413793, -0.4137931 , -0.10344828,\n",
       "         0.20689655,  0.51724138,  0.82758621,  1.13793103,  1.44827586,\n",
       "         1.75862069,  2.06896552,  2.37931034,  2.68965517,  3.        ]])"
      ]
     },
     "execution_count": 190,
     "metadata": {},
     "output_type": "execute_result"
    }
   ],
   "source": [
    "C"
   ]
  },
  {
   "cell_type": "code",
   "execution_count": 199,
   "metadata": {},
   "outputs": [],
   "source": [
    "#array拉平成是一維的陣列\n",
    "C= C.ravel()\n",
    "D= D.ravel()\n"
   ]
  },
  {
   "cell_type": "code",
   "execution_count": 200,
   "metadata": {},
   "outputs": [
    {
     "data": {
      "text/plain": [
       "array([-6.        , -5.68965517, -5.37931034, -5.06896552, -4.75862069,\n",
       "       -4.44827586, -4.13793103, -3.82758621, -3.51724138, -3.20689655,\n",
       "       -2.89655172, -2.5862069 , -2.27586207, -1.96551724, -1.65517241,\n",
       "       -1.34482759, -1.03448276, -0.72413793, -0.4137931 , -0.10344828,\n",
       "        0.20689655,  0.51724138,  0.82758621,  1.13793103,  1.44827586,\n",
       "        1.75862069,  2.06896552,  2.37931034,  2.68965517,  3.        ,\n",
       "       -6.        , -5.68965517, -5.37931034, -5.06896552, -4.75862069,\n",
       "       -4.44827586, -4.13793103, -3.82758621, -3.51724138, -3.20689655,\n",
       "       -2.89655172, -2.5862069 , -2.27586207, -1.96551724, -1.65517241,\n",
       "       -1.34482759, -1.03448276, -0.72413793, -0.4137931 , -0.10344828,\n",
       "        0.20689655,  0.51724138,  0.82758621,  1.13793103,  1.44827586,\n",
       "        1.75862069,  2.06896552,  2.37931034,  2.68965517,  3.        ,\n",
       "       -6.        , -5.68965517, -5.37931034, -5.06896552, -4.75862069,\n",
       "       -4.44827586, -4.13793103, -3.82758621, -3.51724138, -3.20689655,\n",
       "       -2.89655172, -2.5862069 , -2.27586207, -1.96551724, -1.65517241,\n",
       "       -1.34482759, -1.03448276, -0.72413793, -0.4137931 , -0.10344828,\n",
       "        0.20689655,  0.51724138,  0.82758621,  1.13793103,  1.44827586,\n",
       "        1.75862069,  2.06896552,  2.37931034,  2.68965517,  3.        ,\n",
       "       -6.        , -5.68965517, -5.37931034, -5.06896552, -4.75862069,\n",
       "       -4.44827586, -4.13793103, -3.82758621, -3.51724138, -3.20689655,\n",
       "       -2.89655172, -2.5862069 , -2.27586207, -1.96551724, -1.65517241,\n",
       "       -1.34482759, -1.03448276, -0.72413793, -0.4137931 , -0.10344828,\n",
       "        0.20689655,  0.51724138,  0.82758621,  1.13793103,  1.44827586,\n",
       "        1.75862069,  2.06896552,  2.37931034,  2.68965517,  3.        ,\n",
       "       -6.        , -5.68965517, -5.37931034, -5.06896552, -4.75862069,\n",
       "       -4.44827586, -4.13793103, -3.82758621, -3.51724138, -3.20689655,\n",
       "       -2.89655172, -2.5862069 , -2.27586207, -1.96551724, -1.65517241,\n",
       "       -1.34482759, -1.03448276, -0.72413793, -0.4137931 , -0.10344828,\n",
       "        0.20689655,  0.51724138,  0.82758621,  1.13793103,  1.44827586,\n",
       "        1.75862069,  2.06896552,  2.37931034,  2.68965517,  3.        ,\n",
       "       -6.        , -5.68965517, -5.37931034, -5.06896552, -4.75862069,\n",
       "       -4.44827586, -4.13793103, -3.82758621, -3.51724138, -3.20689655,\n",
       "       -2.89655172, -2.5862069 , -2.27586207, -1.96551724, -1.65517241,\n",
       "       -1.34482759, -1.03448276, -0.72413793, -0.4137931 , -0.10344828,\n",
       "        0.20689655,  0.51724138,  0.82758621,  1.13793103,  1.44827586,\n",
       "        1.75862069,  2.06896552,  2.37931034,  2.68965517,  3.        ,\n",
       "       -6.        , -5.68965517, -5.37931034, -5.06896552, -4.75862069,\n",
       "       -4.44827586, -4.13793103, -3.82758621, -3.51724138, -3.20689655,\n",
       "       -2.89655172, -2.5862069 , -2.27586207, -1.96551724, -1.65517241,\n",
       "       -1.34482759, -1.03448276, -0.72413793, -0.4137931 , -0.10344828,\n",
       "        0.20689655,  0.51724138,  0.82758621,  1.13793103,  1.44827586,\n",
       "        1.75862069,  2.06896552,  2.37931034,  2.68965517,  3.        ,\n",
       "       -6.        , -5.68965517, -5.37931034, -5.06896552, -4.75862069,\n",
       "       -4.44827586, -4.13793103, -3.82758621, -3.51724138, -3.20689655,\n",
       "       -2.89655172, -2.5862069 , -2.27586207, -1.96551724, -1.65517241,\n",
       "       -1.34482759, -1.03448276, -0.72413793, -0.4137931 , -0.10344828,\n",
       "        0.20689655,  0.51724138,  0.82758621,  1.13793103,  1.44827586,\n",
       "        1.75862069,  2.06896552,  2.37931034,  2.68965517,  3.        ,\n",
       "       -6.        , -5.68965517, -5.37931034, -5.06896552, -4.75862069,\n",
       "       -4.44827586, -4.13793103, -3.82758621, -3.51724138, -3.20689655,\n",
       "       -2.89655172, -2.5862069 , -2.27586207, -1.96551724, -1.65517241,\n",
       "       -1.34482759, -1.03448276, -0.72413793, -0.4137931 , -0.10344828,\n",
       "        0.20689655,  0.51724138,  0.82758621,  1.13793103,  1.44827586,\n",
       "        1.75862069,  2.06896552,  2.37931034,  2.68965517,  3.        ,\n",
       "       -6.        , -5.68965517, -5.37931034, -5.06896552, -4.75862069,\n",
       "       -4.44827586, -4.13793103, -3.82758621, -3.51724138, -3.20689655,\n",
       "       -2.89655172, -2.5862069 , -2.27586207, -1.96551724, -1.65517241,\n",
       "       -1.34482759, -1.03448276, -0.72413793, -0.4137931 , -0.10344828,\n",
       "        0.20689655,  0.51724138,  0.82758621,  1.13793103,  1.44827586,\n",
       "        1.75862069,  2.06896552,  2.37931034,  2.68965517,  3.        ,\n",
       "       -6.        , -5.68965517, -5.37931034, -5.06896552, -4.75862069,\n",
       "       -4.44827586, -4.13793103, -3.82758621, -3.51724138, -3.20689655,\n",
       "       -2.89655172, -2.5862069 , -2.27586207, -1.96551724, -1.65517241,\n",
       "       -1.34482759, -1.03448276, -0.72413793, -0.4137931 , -0.10344828,\n",
       "        0.20689655,  0.51724138,  0.82758621,  1.13793103,  1.44827586,\n",
       "        1.75862069,  2.06896552,  2.37931034,  2.68965517,  3.        ,\n",
       "       -6.        , -5.68965517, -5.37931034, -5.06896552, -4.75862069,\n",
       "       -4.44827586, -4.13793103, -3.82758621, -3.51724138, -3.20689655,\n",
       "       -2.89655172, -2.5862069 , -2.27586207, -1.96551724, -1.65517241,\n",
       "       -1.34482759, -1.03448276, -0.72413793, -0.4137931 , -0.10344828,\n",
       "        0.20689655,  0.51724138,  0.82758621,  1.13793103,  1.44827586,\n",
       "        1.75862069,  2.06896552,  2.37931034,  2.68965517,  3.        ,\n",
       "       -6.        , -5.68965517, -5.37931034, -5.06896552, -4.75862069,\n",
       "       -4.44827586, -4.13793103, -3.82758621, -3.51724138, -3.20689655,\n",
       "       -2.89655172, -2.5862069 , -2.27586207, -1.96551724, -1.65517241,\n",
       "       -1.34482759, -1.03448276, -0.72413793, -0.4137931 , -0.10344828,\n",
       "        0.20689655,  0.51724138,  0.82758621,  1.13793103,  1.44827586,\n",
       "        1.75862069,  2.06896552,  2.37931034,  2.68965517,  3.        ,\n",
       "       -6.        , -5.68965517, -5.37931034, -5.06896552, -4.75862069,\n",
       "       -4.44827586, -4.13793103, -3.82758621, -3.51724138, -3.20689655,\n",
       "       -2.89655172, -2.5862069 , -2.27586207, -1.96551724, -1.65517241,\n",
       "       -1.34482759, -1.03448276, -0.72413793, -0.4137931 , -0.10344828,\n",
       "        0.20689655,  0.51724138,  0.82758621,  1.13793103,  1.44827586,\n",
       "        1.75862069,  2.06896552,  2.37931034,  2.68965517,  3.        ,\n",
       "       -6.        , -5.68965517, -5.37931034, -5.06896552, -4.75862069,\n",
       "       -4.44827586, -4.13793103, -3.82758621, -3.51724138, -3.20689655,\n",
       "       -2.89655172, -2.5862069 , -2.27586207, -1.96551724, -1.65517241,\n",
       "       -1.34482759, -1.03448276, -0.72413793, -0.4137931 , -0.10344828,\n",
       "        0.20689655,  0.51724138,  0.82758621,  1.13793103,  1.44827586,\n",
       "        1.75862069,  2.06896552,  2.37931034,  2.68965517,  3.        ,\n",
       "       -6.        , -5.68965517, -5.37931034, -5.06896552, -4.75862069,\n",
       "       -4.44827586, -4.13793103, -3.82758621, -3.51724138, -3.20689655,\n",
       "       -2.89655172, -2.5862069 , -2.27586207, -1.96551724, -1.65517241,\n",
       "       -1.34482759, -1.03448276, -0.72413793, -0.4137931 , -0.10344828,\n",
       "        0.20689655,  0.51724138,  0.82758621,  1.13793103,  1.44827586,\n",
       "        1.75862069,  2.06896552,  2.37931034,  2.68965517,  3.        ,\n",
       "       -6.        , -5.68965517, -5.37931034, -5.06896552, -4.75862069,\n",
       "       -4.44827586, -4.13793103, -3.82758621, -3.51724138, -3.20689655,\n",
       "       -2.89655172, -2.5862069 , -2.27586207, -1.96551724, -1.65517241,\n",
       "       -1.34482759, -1.03448276, -0.72413793, -0.4137931 , -0.10344828,\n",
       "        0.20689655,  0.51724138,  0.82758621,  1.13793103,  1.44827586,\n",
       "        1.75862069,  2.06896552,  2.37931034,  2.68965517,  3.        ,\n",
       "       -6.        , -5.68965517, -5.37931034, -5.06896552, -4.75862069,\n",
       "       -4.44827586, -4.13793103, -3.82758621, -3.51724138, -3.20689655,\n",
       "       -2.89655172, -2.5862069 , -2.27586207, -1.96551724, -1.65517241,\n",
       "       -1.34482759, -1.03448276, -0.72413793, -0.4137931 , -0.10344828,\n",
       "        0.20689655,  0.51724138,  0.82758621,  1.13793103,  1.44827586,\n",
       "        1.75862069,  2.06896552,  2.37931034,  2.68965517,  3.        ,\n",
       "       -6.        , -5.68965517, -5.37931034, -5.06896552, -4.75862069,\n",
       "       -4.44827586, -4.13793103, -3.82758621, -3.51724138, -3.20689655,\n",
       "       -2.89655172, -2.5862069 , -2.27586207, -1.96551724, -1.65517241,\n",
       "       -1.34482759, -1.03448276, -0.72413793, -0.4137931 , -0.10344828,\n",
       "        0.20689655,  0.51724138,  0.82758621,  1.13793103,  1.44827586,\n",
       "        1.75862069,  2.06896552,  2.37931034,  2.68965517,  3.        ,\n",
       "       -6.        , -5.68965517, -5.37931034, -5.06896552, -4.75862069,\n",
       "       -4.44827586, -4.13793103, -3.82758621, -3.51724138, -3.20689655,\n",
       "       -2.89655172, -2.5862069 , -2.27586207, -1.96551724, -1.65517241,\n",
       "       -1.34482759, -1.03448276, -0.72413793, -0.4137931 , -0.10344828,\n",
       "        0.20689655,  0.51724138,  0.82758621,  1.13793103,  1.44827586,\n",
       "        1.75862069,  2.06896552,  2.37931034,  2.68965517,  3.        ,\n",
       "       -6.        , -5.68965517, -5.37931034, -5.06896552, -4.75862069,\n",
       "       -4.44827586, -4.13793103, -3.82758621, -3.51724138, -3.20689655,\n",
       "       -2.89655172, -2.5862069 , -2.27586207, -1.96551724, -1.65517241,\n",
       "       -1.34482759, -1.03448276, -0.72413793, -0.4137931 , -0.10344828,\n",
       "        0.20689655,  0.51724138,  0.82758621,  1.13793103,  1.44827586,\n",
       "        1.75862069,  2.06896552,  2.37931034,  2.68965517,  3.        ,\n",
       "       -6.        , -5.68965517, -5.37931034, -5.06896552, -4.75862069,\n",
       "       -4.44827586, -4.13793103, -3.82758621, -3.51724138, -3.20689655,\n",
       "       -2.89655172, -2.5862069 , -2.27586207, -1.96551724, -1.65517241,\n",
       "       -1.34482759, -1.03448276, -0.72413793, -0.4137931 , -0.10344828,\n",
       "        0.20689655,  0.51724138,  0.82758621,  1.13793103,  1.44827586,\n",
       "        1.75862069,  2.06896552,  2.37931034,  2.68965517,  3.        ,\n",
       "       -6.        , -5.68965517, -5.37931034, -5.06896552, -4.75862069,\n",
       "       -4.44827586, -4.13793103, -3.82758621, -3.51724138, -3.20689655,\n",
       "       -2.89655172, -2.5862069 , -2.27586207, -1.96551724, -1.65517241,\n",
       "       -1.34482759, -1.03448276, -0.72413793, -0.4137931 , -0.10344828,\n",
       "        0.20689655,  0.51724138,  0.82758621,  1.13793103,  1.44827586,\n",
       "        1.75862069,  2.06896552,  2.37931034,  2.68965517,  3.        ,\n",
       "       -6.        , -5.68965517, -5.37931034, -5.06896552, -4.75862069,\n",
       "       -4.44827586, -4.13793103, -3.82758621, -3.51724138, -3.20689655,\n",
       "       -2.89655172, -2.5862069 , -2.27586207, -1.96551724, -1.65517241,\n",
       "       -1.34482759, -1.03448276, -0.72413793, -0.4137931 , -0.10344828,\n",
       "        0.20689655,  0.51724138,  0.82758621,  1.13793103,  1.44827586,\n",
       "        1.75862069,  2.06896552,  2.37931034,  2.68965517,  3.        ,\n",
       "       -6.        , -5.68965517, -5.37931034, -5.06896552, -4.75862069,\n",
       "       -4.44827586, -4.13793103, -3.82758621, -3.51724138, -3.20689655,\n",
       "       -2.89655172, -2.5862069 , -2.27586207, -1.96551724, -1.65517241,\n",
       "       -1.34482759, -1.03448276, -0.72413793, -0.4137931 , -0.10344828,\n",
       "        0.20689655,  0.51724138,  0.82758621,  1.13793103,  1.44827586,\n",
       "        1.75862069,  2.06896552,  2.37931034,  2.68965517,  3.        ,\n",
       "       -6.        , -5.68965517, -5.37931034, -5.06896552, -4.75862069,\n",
       "       -4.44827586, -4.13793103, -3.82758621, -3.51724138, -3.20689655,\n",
       "       -2.89655172, -2.5862069 , -2.27586207, -1.96551724, -1.65517241,\n",
       "       -1.34482759, -1.03448276, -0.72413793, -0.4137931 , -0.10344828,\n",
       "        0.20689655,  0.51724138,  0.82758621,  1.13793103,  1.44827586,\n",
       "        1.75862069,  2.06896552,  2.37931034,  2.68965517,  3.        ,\n",
       "       -6.        , -5.68965517, -5.37931034, -5.06896552, -4.75862069,\n",
       "       -4.44827586, -4.13793103, -3.82758621, -3.51724138, -3.20689655,\n",
       "       -2.89655172, -2.5862069 , -2.27586207, -1.96551724, -1.65517241,\n",
       "       -1.34482759, -1.03448276, -0.72413793, -0.4137931 , -0.10344828,\n",
       "        0.20689655,  0.51724138,  0.82758621,  1.13793103,  1.44827586,\n",
       "        1.75862069,  2.06896552,  2.37931034,  2.68965517,  3.        ,\n",
       "       -6.        , -5.68965517, -5.37931034, -5.06896552, -4.75862069,\n",
       "       -4.44827586, -4.13793103, -3.82758621, -3.51724138, -3.20689655,\n",
       "       -2.89655172, -2.5862069 , -2.27586207, -1.96551724, -1.65517241,\n",
       "       -1.34482759, -1.03448276, -0.72413793, -0.4137931 , -0.10344828,\n",
       "        0.20689655,  0.51724138,  0.82758621,  1.13793103,  1.44827586,\n",
       "        1.75862069,  2.06896552,  2.37931034,  2.68965517,  3.        ,\n",
       "       -6.        , -5.68965517, -5.37931034, -5.06896552, -4.75862069,\n",
       "       -4.44827586, -4.13793103, -3.82758621, -3.51724138, -3.20689655,\n",
       "       -2.89655172, -2.5862069 , -2.27586207, -1.96551724, -1.65517241,\n",
       "       -1.34482759, -1.03448276, -0.72413793, -0.4137931 , -0.10344828,\n",
       "        0.20689655,  0.51724138,  0.82758621,  1.13793103,  1.44827586,\n",
       "        1.75862069,  2.06896552,  2.37931034,  2.68965517,  3.        ,\n",
       "       -6.        , -5.68965517, -5.37931034, -5.06896552, -4.75862069,\n",
       "       -4.44827586, -4.13793103, -3.82758621, -3.51724138, -3.20689655,\n",
       "       -2.89655172, -2.5862069 , -2.27586207, -1.96551724, -1.65517241,\n",
       "       -1.34482759, -1.03448276, -0.72413793, -0.4137931 , -0.10344828,\n",
       "        0.20689655,  0.51724138,  0.82758621,  1.13793103,  1.44827586,\n",
       "        1.75862069,  2.06896552,  2.37931034,  2.68965517,  3.        ])"
      ]
     },
     "execution_count": 200,
     "metadata": {},
     "output_type": "execute_result"
    }
   ],
   "source": [
    "C"
   ]
  },
  {
   "cell_type": "code",
   "execution_count": 201,
   "metadata": {},
   "outputs": [
    {
     "data": {
      "text/plain": [
       "<matplotlib.collections.PathCollection at 0x2875c23de20>"
      ]
     },
     "execution_count": 201,
     "metadata": {},
     "output_type": "execute_result"
    },
    {
     "data": {
      "image/png": "[encoded data removed]",
      "text/plain": [
       "<Figure size 432x288 with 1 Axes>"
      ]
     },
     "metadata": {
      "needs_background": "light"
     },
     "output_type": "display_data"
    }
   ],
   "source": [
    "plt.scatter(C,D)"
   ]
  },
  {
   "cell_type": "markdown",
   "metadata": {},
   "source": [
    "### xip高級組合法"
   ]
  },
  {
   "cell_type": "code",
   "execution_count": 202,
   "metadata": {},
   "outputs": [],
   "source": [
    "xx = [1,2,3,4]\n",
    "yy = [5,6,7,8]\n",
    "#希望能(1,5)、(2,6)...一組"
   ]
  },
  {
   "cell_type": "code",
   "execution_count": 203,
   "metadata": {},
   "outputs": [
    {
     "data": {
      "text/plain": [
       "<zip at 0x2875c24ba40>"
      ]
     },
     "execution_count": 203,
     "metadata": {},
     "output_type": "execute_result"
    }
   ],
   "source": [
    "zip(xx,yy)\n",
    "#把xy座標合起來放一起"
   ]
  },
  {
   "cell_type": "code",
   "execution_count": 204,
   "metadata": {},
   "outputs": [
    {
     "data": {
      "text/plain": [
       "[(1, 5), (2, 6), (3, 7), (4, 8)]"
      ]
     },
     "execution_count": 204,
     "metadata": {},
     "output_type": "execute_result"
    }
   ],
   "source": [
    "list(zip(xx,yy))"
   ]
  },
  {
   "cell_type": "code",
   "execution_count": 205,
   "metadata": {},
   "outputs": [],
   "source": [
    "#放一起 才能做預測\n",
    "z = clf.predict(list(zip(C,D)))"
   ]
  },
  {
   "cell_type": "code",
   "execution_count": 133,
   "metadata": {},
   "outputs": [
    {
     "data": {
      "text/plain": [
       "array([2, 2, 2, 2, 2, 2, 2, 2, 2, 2, 2, 2, 2, 2, 2, 2, 2, 2, 2, 2, 2, 2,\n",
       "       2, 2, 2, 2, 2, 2, 2, 2, 2, 2, 2, 2, 2, 2, 2, 2, 2, 2, 2, 2, 2, 2,\n",
       "       2, 2, 2, 2, 2, 2, 2, 2, 2, 2, 2, 2, 2, 2, 2, 2, 2, 2, 2, 2, 2, 2,\n",
       "       2, 2, 2, 2, 2, 2, 2, 2, 2, 2, 2, 2, 2, 2, 2, 2, 2, 2, 2, 2, 2, 2,\n",
       "       2, 2, 2, 2, 2, 2, 2, 2, 2, 2, 2, 2, 2, 2, 2, 2, 2, 2, 2, 2, 2, 2,\n",
       "       2, 2, 2, 2, 2, 2, 2, 2, 2, 2, 2, 2, 2, 2, 2, 2, 2, 2, 2, 2, 2, 2,\n",
       "       2, 2, 2, 2, 2, 2, 2, 2, 2, 2, 2, 2, 2, 2, 2, 2, 2, 2, 2, 2, 2, 2,\n",
       "       2, 2, 2, 2, 2, 2, 2, 2, 2, 2, 2, 2, 2, 2, 2, 2, 2, 2, 2, 2, 2, 2,\n",
       "       2, 2, 2, 2, 1, 1, 2, 2, 2, 2, 2, 2, 2, 2, 2, 2, 2, 2, 2, 2, 2, 2,\n",
       "       2, 2, 2, 2, 2, 2, 2, 2, 2, 2, 2, 2, 1, 1, 1, 1, 2, 2, 2, 2, 2, 2,\n",
       "       2, 2, 2, 2, 2, 2, 2, 2, 2, 2, 2, 2, 2, 2, 2, 2, 2, 2, 2, 2, 1, 1,\n",
       "       1, 1, 1, 1, 2, 2, 2, 2, 2, 2, 2, 2, 2, 2, 2, 2, 2, 2, 2, 2, 2, 2,\n",
       "       2, 2, 2, 2, 2, 2, 1, 1, 1, 1, 1, 1, 1, 1, 2, 2, 2, 2, 2, 2, 2, 2,\n",
       "       2, 2, 2, 2, 2, 2, 2, 2, 2, 2, 2, 2, 2, 2, 1, 1, 1, 1, 1, 1, 1, 1,\n",
       "       1, 2, 2, 2, 2, 2, 2, 2, 2, 2, 2, 2, 2, 2, 2, 2, 2, 2, 2, 2, 2, 2,\n",
       "       1, 1, 1, 1, 1, 1, 1, 1, 1, 1, 1, 2, 2, 2, 2, 2, 2, 2, 2, 2, 2, 2,\n",
       "       2, 2, 2, 2, 2, 2, 2, 2, 1, 1, 1, 1, 1, 1, 1, 1, 1, 1, 1, 1, 1, 2,\n",
       "       2, 2, 2, 2, 2, 2, 2, 2, 2, 2, 2, 2, 2, 2, 2, 2, 1, 1, 1, 1, 1, 1,\n",
       "       1, 1, 1, 1, 1, 1, 1, 1, 1, 2, 2, 2, 2, 2, 2, 2, 2, 2, 2, 2, 2, 2,\n",
       "       2, 2, 1, 1, 1, 1, 1, 1, 1, 1, 1, 1, 1, 1, 1, 1, 1, 1, 1, 2, 2, 2,\n",
       "       2, 2, 2, 2, 2, 2, 2, 2, 2, 2, 1, 1, 1, 1, 1, 1, 1, 1, 1, 1, 1, 1,\n",
       "       1, 1, 1, 1, 1, 1, 2, 2, 2, 2, 2, 2, 2, 2, 2, 2, 2, 2, 1, 1, 1, 1,\n",
       "       1, 1, 1, 1, 1, 1, 1, 1, 1, 1, 1, 1, 1, 1, 1, 1, 2, 2, 2, 2, 2, 2,\n",
       "       2, 2, 2, 2, 1, 1, 1, 1, 1, 1, 1, 1, 1, 1, 1, 1, 1, 1, 1, 1, 1, 1,\n",
       "       1, 1, 1, 1, 2, 2, 2, 2, 2, 2, 2, 2, 1, 1, 1, 1, 1, 1, 1, 1, 1, 1,\n",
       "       1, 1, 1, 1, 1, 1, 1, 1, 1, 1, 1, 1, 1, 2, 2, 2, 2, 2, 2, 2, 1, 1,\n",
       "       1, 1, 1, 1, 1, 1, 1, 1, 1, 1, 1, 1, 1, 1, 1, 1, 1, 1, 1, 1, 1, 1,\n",
       "       1, 2, 2, 2, 2, 2, 1, 1, 1, 1, 1, 1, 1, 1, 1, 1, 1, 1, 1, 1, 1, 1,\n",
       "       1, 1, 1, 1, 1, 1, 1, 1, 1, 1, 2, 2, 2, 2, 1, 1, 1, 1, 1, 1, 1, 1,\n",
       "       1, 1, 1, 1, 1, 1, 1, 1, 1, 1, 1, 1, 1, 1, 1, 1, 1, 1, 1, 1, 2, 2,\n",
       "       1, 1, 1, 1, 1, 1, 1, 1, 1, 1, 1, 1, 1, 1, 1, 1, 1, 1, 1, 1, 1, 1,\n",
       "       1, 1, 1, 1, 1, 1, 1, 1, 1, 1, 1, 1, 1, 1, 1, 1, 1, 1, 1, 1, 1, 1,\n",
       "       1, 1, 1, 1, 1, 1, 1, 1, 1, 1, 1, 1, 1, 1, 1, 1, 1, 1, 1, 1, 1, 1,\n",
       "       1, 1, 1, 1, 1, 1, 1, 1, 1, 1, 1, 1, 1, 1, 1, 1, 1, 1, 1, 1, 1, 1,\n",
       "       1, 1, 1, 1, 1, 1, 1, 1, 1, 1, 1, 1, 1, 1, 1, 1, 1, 1, 1, 1, 1, 1,\n",
       "       1, 1, 1, 1, 1, 1, 1, 1, 1, 1, 1, 1, 1, 1, 1, 1, 1, 1, 1, 1, 1, 1,\n",
       "       1, 1, 1, 1, 1, 1, 1, 1, 1, 1, 1, 1, 1, 1, 1, 1, 1, 1, 1, 1, 1, 1,\n",
       "       1, 1, 1, 1, 1, 1, 1, 1, 1, 1, 1, 1, 1, 1, 1, 1, 1, 1, 1, 1, 1, 1,\n",
       "       1, 1, 1, 1, 1, 1, 1, 1, 1, 1, 1, 1, 1, 1, 1, 1, 1, 1, 1, 1, 1, 1,\n",
       "       1, 1, 1, 1, 1, 1, 1, 1, 1, 1, 1, 1, 1, 1, 1, 1, 1, 1, 1, 1, 1, 1,\n",
       "       1, 1, 1, 1, 1, 1, 1, 1, 1, 1, 1, 1, 1, 1, 1, 1, 1, 1, 1, 1])"
      ]
     },
     "execution_count": 133,
     "metadata": {},
     "output_type": "execute_result"
    }
   ],
   "source": [
    "z\n",
    "#預測出來的結果"
   ]
  },
  {
   "cell_type": "code",
   "execution_count": 206,
   "metadata": {},
   "outputs": [
    {
     "data": {
      "text/plain": [
       "<matplotlib.collections.PathCollection at 0x2875c295eb0>"
      ]
     },
     "execution_count": 206,
     "metadata": {},
     "output_type": "execute_result"
    },
    {
     "data": {
      "image/png": "[encoded data removed]",
      "text/plain": [
       "<Figure size 432x288 with 1 Axes>"
      ]
     },
     "metadata": {
      "needs_background": "light"
     },
     "output_type": "display_data"
    }
   ],
   "source": [
    "plt.scatter(C,D,s=50,c=z) #顏色用Z區別"
   ]
  },
  {
   "cell_type": "code",
   "execution_count": 258,
   "metadata": {},
   "outputs": [],
   "source": [
    "from sklearn.svm import SVC\n",
    "x2 = np.array([[-3,2],[6,5],[3,-4],[2,-8]])\n",
    "y2 = np.array([1, 1, 2, 2])  \n",
    "\n"
   ]
  },
  {
   "cell_type": "code",
   "execution_count": 259,
   "metadata": {},
   "outputs": [],
   "source": [
    "clf22 = SVC()"
   ]
  },
  {
   "cell_type": "code",
   "execution_count": 260,
   "metadata": {},
   "outputs": [
    {
     "data": {
      "text/plain": [
       "SVC()"
      ]
     },
     "execution_count": 260,
     "metadata": {},
     "output_type": "execute_result"
    }
   ],
   "source": [
    "clf22.fit(x2,y2) "
   ]
  },
  {
   "cell_type": "code",
   "execution_count": 261,
   "metadata": {},
   "outputs": [
    {
     "data": {
      "text/plain": [
       "array([2])"
      ]
     },
     "execution_count": 261,
     "metadata": {},
     "output_type": "execute_result"
    }
   ],
   "source": [
    "clf22.predict([[2,-9]])"
   ]
  },
  {
   "cell_type": "code",
   "execution_count": 262,
   "metadata": {},
   "outputs": [
    {
     "data": {
      "text/plain": [
       "array([1, 1, 2, 2])"
      ]
     },
     "execution_count": 262,
     "metadata": {},
     "output_type": "execute_result"
    }
   ],
   "source": [
    "clf22.predict(x2)"
   ]
  },
  {
   "cell_type": "code",
   "execution_count": 263,
   "metadata": {},
   "outputs": [
    {
     "data": {
      "text/plain": [
       "array([1, 1, 2, 2])"
      ]
     },
     "execution_count": 263,
     "metadata": {},
     "output_type": "execute_result"
    }
   ],
   "source": [
    "y2"
   ]
  },
  {
   "cell_type": "code",
   "execution_count": 264,
   "metadata": {},
   "outputs": [],
   "source": [
    "E, F = np.meshgrid(np.linspace(-6,2,30),np.linspace(-8,5,30))"
   ]
  },
  {
   "cell_type": "code",
   "execution_count": 265,
   "metadata": {},
   "outputs": [],
   "source": [
    "E= E.ravel()\n",
    "F= F.ravel()"
   ]
  },
  {
   "cell_type": "code",
   "execution_count": 266,
   "metadata": {},
   "outputs": [],
   "source": [
    "z2 = clf.predict(list(zip(E,F)))"
   ]
  },
  {
   "cell_type": "code",
   "execution_count": 267,
   "metadata": {},
   "outputs": [],
   "source": [
    "z2 = clf.predict(list(zip(E,F)))"
   ]
  },
  {
   "cell_type": "code",
   "execution_count": 268,
   "metadata": {
    "scrolled": true
   },
   "outputs": [
    {
     "data": {
      "text/plain": [
       "<matplotlib.collections.PathCollection at 0x2875c898b20>"
      ]
     },
     "execution_count": 268,
     "metadata": {},
     "output_type": "execute_result"
    },
    {
     "data": {
      "image/png": "[encoded data removed]",
      "text/plain": [
       "<Figure size 432x288 with 1 Axes>"
      ]
     },
     "metadata": {
      "needs_background": "light"
     },
     "output_type": "display_data"
    }
   ],
   "source": [
    "plt.scatter(E,F,s=50,c=z2) "
   ]
  },
  {
   "cell_type": "code",
   "execution_count": null,
   "metadata": {},
   "outputs": [],
   "source": []
  },
  {
   "cell_type": "markdown",
   "metadata": {},
   "source": [
    "## 0705做鳶尾花的分類"
   ]
  },
  {
   "cell_type": "code",
   "execution_count": 218,
   "metadata": {},
   "outputs": [],
   "source": [
    "%matplotlib inline\n",
    "import numpy as np\n",
    "import matplotlib.pyplot as plt"
   ]
  },
  {
   "cell_type": "code",
   "execution_count": 219,
   "metadata": {},
   "outputs": [],
   "source": [
    "from sklearn.datasets import load_iris"
   ]
  },
  {
   "cell_type": "code",
   "execution_count": 220,
   "metadata": {},
   "outputs": [],
   "source": [
    "iris = load_iris()"
   ]
  },
  {
   "cell_type": "code",
   "execution_count": 222,
   "metadata": {},
   "outputs": [
    {
     "name": "stdout",
     "output_type": "stream",
     "text": [
      ".. _iris_dataset:\n",
      "\n",
      "Iris plants dataset\n",
      "--------------------\n",
      "\n",
      "**Data Set Characteristics:**\n",
      "\n",
      "    :Number of Instances: 150 (50 in each of three classes)\n",
      "    :Number of Attributes: 4 numeric, predictive attributes and the class\n",
      "    :Attribute Information:\n",
      "        - sepal length in cm\n",
      "        - sepal width in cm\n",
      "        - petal length in cm\n",
      "        - petal width in cm\n",
      "        - class:\n",
      "                - Iris-Setosa\n",
      "                - Iris-Versicolour\n",
      "                - Iris-Virginica\n",
      "                \n",
      "    :Summary Statistics:\n",
      "\n",
      "    ============== ==== ==== ======= ===== ====================\n",
      "                    Min  Max   Mean    SD   Class Correlation\n",
      "    ============== ==== ==== ======= ===== ====================\n",
      "    sepal length:   4.3  7.9   5.84   0.83    0.7826\n",
      "    sepal width:    2.0  4.4   3.05   0.43   -0.4194\n",
      "    petal length:   1.0  6.9   3.76   1.76    0.9490  (high!)\n",
      "    petal width:    0.1  2.5   1.20   0.76    0.9565  (high!)\n",
      "    ============== ==== ==== ======= ===== ====================\n",
      "\n",
      "    :Missing Attribute Values: None\n",
      "    :Class Distribution: 33.3% for each of 3 classes.\n",
      "    :Creator: R.A. Fisher\n",
      "    :Donor: Michael Marshall (MARSHALL%PLU@io.arc.nasa.gov)\n",
      "    :Date: July, 1988\n",
      "\n",
      "The famous Iris database, first used by Sir R.A. Fisher. The dataset is taken\n",
      "from Fisher's paper. Note that it's the same as in R, but not as in the UCI\n",
      "Machine Learning Repository, which has two wrong data points.\n",
      "\n",
      "This is perhaps the best known database to be found in the\n",
      "pattern recognition literature.  Fisher's paper is a classic in the field and\n",
      "is referenced frequently to this day.  (See Duda & Hart, for example.)  The\n",
      "data set contains 3 classes of 50 instances each, where each class refers to a\n",
      "type of iris plant.  One class is linearly separable from the other 2; the\n",
      "latter are NOT linearly separable from each other.\n",
      "\n",
      ".. topic:: References\n",
      "\n",
      "   - Fisher, R.A. \"The use of multiple measurements in taxonomic problems\"\n",
      "     Annual Eugenics, 7, Part II, 179-188 (1936); also in \"Contributions to\n",
      "     Mathematical Statistics\" (John Wiley, NY, 1950).\n",
      "   - Duda, R.O., & Hart, P.E. (1973) Pattern Classification and Scene Analysis.\n",
      "     (Q327.D83) John Wiley & Sons.  ISBN 0-471-22361-1.  See page 218.\n",
      "   - Dasarathy, B.V. (1980) \"Nosing Around the Neighborhood: A New System\n",
      "     Structure and Classification Rule for Recognition in Partially Exposed\n",
      "     Environments\".  IEEE Transactions on Pattern Analysis and Machine\n",
      "     Intelligence, Vol. PAMI-2, No. 1, 67-71.\n",
      "   - Gates, G.W. (1972) \"The Reduced Nearest Neighbor Rule\".  IEEE Transactions\n",
      "     on Information Theory, May 1972, 431-433.\n",
      "   - See also: 1988 MLC Proceedings, 54-64.  Cheeseman et al\"s AUTOCLASS II\n",
      "     conceptual clustering system finds 3 classes in the data.\n",
      "   - Many, many more ...\n"
     ]
    }
   ],
   "source": [
    "print(iris.DESCR)\n",
    "#數據基本介紹:\n",
    "#輸入花瓣和花萼的長度，來預測0r分類 鳶尾花的亞種"
   ]
  },
  {
   "cell_type": "code",
   "execution_count": 223,
   "metadata": {},
   "outputs": [],
   "source": [
    "#讀進來\n",
    "X = iris.data"
   ]
  },
  {
   "cell_type": "code",
   "execution_count": 224,
   "metadata": {},
   "outputs": [],
   "source": [
    "Y = iris.target"
   ]
  },
  {
   "cell_type": "code",
   "execution_count": 226,
   "metadata": {},
   "outputs": [
    {
     "data": {
      "text/plain": [
       "array([5.1, 3.5, 1.4, 0.2])"
      ]
     },
     "execution_count": 226,
     "metadata": {},
     "output_type": "execute_result"
    }
   ],
   "source": [
    "X[0]  #花萼、畫瓣的長度寬度"
   ]
  },
  {
   "cell_type": "code",
   "execution_count": 228,
   "metadata": {},
   "outputs": [
    {
     "data": {
      "text/plain": [
       "array([1.4, 0.2])"
      ]
     },
     "execution_count": 228,
     "metadata": {},
     "output_type": "execute_result"
    }
   ],
   "source": [
    "#只用花瓣去學 =>讀出花瓣的長寬\n",
    "X[0][2:]"
   ]
  },
  {
   "cell_type": "code",
   "execution_count": 229,
   "metadata": {},
   "outputs": [
    {
     "data": {
      "text/plain": [
       "array([[1.4, 0.2],\n",
       "       [1.4, 0.2],\n",
       "       [1.3, 0.2],\n",
       "       [1.5, 0.2],\n",
       "       [1.4, 0.2],\n",
       "       [1.7, 0.4],\n",
       "       [1.4, 0.3],\n",
       "       [1.5, 0.2],\n",
       "       [1.4, 0.2],\n",
       "       [1.5, 0.1],\n",
       "       [1.5, 0.2],\n",
       "       [1.6, 0.2],\n",
       "       [1.4, 0.1],\n",
       "       [1.1, 0.1],\n",
       "       [1.2, 0.2],\n",
       "       [1.5, 0.4],\n",
       "       [1.3, 0.4],\n",
       "       [1.4, 0.3],\n",
       "       [1.7, 0.3],\n",
       "       [1.5, 0.3],\n",
       "       [1.7, 0.2],\n",
       "       [1.5, 0.4],\n",
       "       [1. , 0.2],\n",
       "       [1.7, 0.5],\n",
       "       [1.9, 0.2],\n",
       "       [1.6, 0.2],\n",
       "       [1.6, 0.4],\n",
       "       [1.5, 0.2],\n",
       "       [1.4, 0.2],\n",
       "       [1.6, 0.2],\n",
       "       [1.6, 0.2],\n",
       "       [1.5, 0.4],\n",
       "       [1.5, 0.1],\n",
       "       [1.4, 0.2],\n",
       "       [1.5, 0.2],\n",
       "       [1.2, 0.2],\n",
       "       [1.3, 0.2],\n",
       "       [1.4, 0.1],\n",
       "       [1.3, 0.2],\n",
       "       [1.5, 0.2],\n",
       "       [1.3, 0.3],\n",
       "       [1.3, 0.3],\n",
       "       [1.3, 0.2],\n",
       "       [1.6, 0.6],\n",
       "       [1.9, 0.4],\n",
       "       [1.4, 0.3],\n",
       "       [1.6, 0.2],\n",
       "       [1.4, 0.2],\n",
       "       [1.5, 0.2],\n",
       "       [1.4, 0.2],\n",
       "       [4.7, 1.4],\n",
       "       [4.5, 1.5],\n",
       "       [4.9, 1.5],\n",
       "       [4. , 1.3],\n",
       "       [4.6, 1.5],\n",
       "       [4.5, 1.3],\n",
       "       [4.7, 1.6],\n",
       "       [3.3, 1. ],\n",
       "       [4.6, 1.3],\n",
       "       [3.9, 1.4],\n",
       "       [3.5, 1. ],\n",
       "       [4.2, 1.5],\n",
       "       [4. , 1. ],\n",
       "       [4.7, 1.4],\n",
       "       [3.6, 1.3],\n",
       "       [4.4, 1.4],\n",
       "       [4.5, 1.5],\n",
       "       [4.1, 1. ],\n",
       "       [4.5, 1.5],\n",
       "       [3.9, 1.1],\n",
       "       [4.8, 1.8],\n",
       "       [4. , 1.3],\n",
       "       [4.9, 1.5],\n",
       "       [4.7, 1.2],\n",
       "       [4.3, 1.3],\n",
       "       [4.4, 1.4],\n",
       "       [4.8, 1.4],\n",
       "       [5. , 1.7],\n",
       "       [4.5, 1.5],\n",
       "       [3.5, 1. ],\n",
       "       [3.8, 1.1],\n",
       "       [3.7, 1. ],\n",
       "       [3.9, 1.2],\n",
       "       [5.1, 1.6],\n",
       "       [4.5, 1.5],\n",
       "       [4.5, 1.6],\n",
       "       [4.7, 1.5],\n",
       "       [4.4, 1.3],\n",
       "       [4.1, 1.3],\n",
       "       [4. , 1.3],\n",
       "       [4.4, 1.2],\n",
       "       [4.6, 1.4],\n",
       "       [4. , 1.2],\n",
       "       [3.3, 1. ],\n",
       "       [4.2, 1.3],\n",
       "       [4.2, 1.2],\n",
       "       [4.2, 1.3],\n",
       "       [4.3, 1.3],\n",
       "       [3. , 1.1],\n",
       "       [4.1, 1.3],\n",
       "       [6. , 2.5],\n",
       "       [5.1, 1.9],\n",
       "       [5.9, 2.1],\n",
       "       [5.6, 1.8],\n",
       "       [5.8, 2.2],\n",
       "       [6.6, 2.1],\n",
       "       [4.5, 1.7],\n",
       "       [6.3, 1.8],\n",
       "       [5.8, 1.8],\n",
       "       [6.1, 2.5],\n",
       "       [5.1, 2. ],\n",
       "       [5.3, 1.9],\n",
       "       [5.5, 2.1],\n",
       "       [5. , 2. ],\n",
       "       [5.1, 2.4],\n",
       "       [5.3, 2.3],\n",
       "       [5.5, 1.8],\n",
       "       [6.7, 2.2],\n",
       "       [6.9, 2.3],\n",
       "       [5. , 1.5],\n",
       "       [5.7, 2.3],\n",
       "       [4.9, 2. ],\n",
       "       [6.7, 2. ],\n",
       "       [4.9, 1.8],\n",
       "       [5.7, 2.1],\n",
       "       [6. , 1.8],\n",
       "       [4.8, 1.8],\n",
       "       [4.9, 1.8],\n",
       "       [5.6, 2.1],\n",
       "       [5.8, 1.6],\n",
       "       [6.1, 1.9],\n",
       "       [6.4, 2. ],\n",
       "       [5.6, 2.2],\n",
       "       [5.1, 1.5],\n",
       "       [5.6, 1.4],\n",
       "       [6.1, 2.3],\n",
       "       [5.6, 2.4],\n",
       "       [5.5, 1.8],\n",
       "       [4.8, 1.8],\n",
       "       [5.4, 2.1],\n",
       "       [5.6, 2.4],\n",
       "       [5.1, 2.3],\n",
       "       [5.1, 1.9],\n",
       "       [5.9, 2.3],\n",
       "       [5.7, 2.5],\n",
       "       [5.2, 2.3],\n",
       "       [5. , 1.9],\n",
       "       [5.2, 2. ],\n",
       "       [5.4, 2.3],\n",
       "       [5.1, 1.8]])"
      ]
     },
     "execution_count": 229,
     "metadata": {},
     "output_type": "execute_result"
    }
   ],
   "source": [
    "X[:, 2:] # : :X所有列  [2:] :花瓣"
   ]
  },
  {
   "cell_type": "code",
   "execution_count": 230,
   "metadata": {},
   "outputs": [],
   "source": [
    "X = X[:, 2:]"
   ]
  },
  {
   "cell_type": "code",
   "execution_count": 233,
   "metadata": {},
   "outputs": [
    {
     "data": {
      "text/plain": [
       "array([0, 0, 0, 0, 0, 0, 0, 0, 0, 0, 0, 0, 0, 0, 0, 0, 0, 0, 0, 0, 0, 0,\n",
       "       0, 0, 0, 0, 0, 0, 0, 0, 0, 0, 0, 0, 0, 0, 0, 0, 0, 0, 0, 0, 0, 0,\n",
       "       0, 0, 0, 0, 0, 0, 1, 1, 1, 1, 1, 1, 1, 1, 1, 1, 1, 1, 1, 1, 1, 1,\n",
       "       1, 1, 1, 1, 1, 1, 1, 1, 1, 1, 1, 1, 1, 1, 1, 1, 1, 1, 1, 1, 1, 1,\n",
       "       1, 1, 1, 1, 1, 1, 1, 1, 1, 1, 1, 1, 2, 2, 2, 2, 2, 2, 2, 2, 2, 2,\n",
       "       2, 2, 2, 2, 2, 2, 2, 2, 2, 2, 2, 2, 2, 2, 2, 2, 2, 2, 2, 2, 2, 2,\n",
       "       2, 2, 2, 2, 2, 2, 2, 2, 2, 2, 2, 2, 2, 2, 2, 2, 2, 2])"
      ]
     },
     "execution_count": 233,
     "metadata": {},
     "output_type": "execute_result"
    }
   ],
   "source": [
    "Y  #0 1 2三個亞種"
   ]
  },
  {
   "cell_type": "code",
   "execution_count": 234,
   "metadata": {},
   "outputs": [],
   "source": [
    "from sklearn.model_selection import train_test_split"
   ]
  },
  {
   "cell_type": "code",
   "execution_count": 236,
   "metadata": {},
   "outputs": [],
   "source": [
    "x_train, x_test, y_train, y_test = train_test_split(X,Y,\n",
    "                                                   test_size=0.2,\n",
    "                                                    random_state = 87)   #讓每次的0.2取的數都一樣\n",
    "                                                   "
   ]
  },
  {
   "cell_type": "code",
   "execution_count": 238,
   "metadata": {},
   "outputs": [
    {
     "data": {
      "text/plain": [
       "<matplotlib.collections.PathCollection at 0x2875cde1d30>"
      ]
     },
     "execution_count": 238,
     "metadata": {},
     "output_type": "execute_result"
    },
    {
     "data": {
      "image/png": "[encoded data removed]",
      "text/plain": [
       "<Figure size 432x288 with 1 Axes>"
      ]
     },
     "metadata": {
      "needs_background": "light"
     },
     "output_type": "display_data"
    }
   ],
   "source": [
    "#把訓練資料 花瓣的長寬分別放到座標的x y軸，用y_train 去填顏色\n",
    "plt.scatter(x_train[:,0],x_train[:,1], c =y_train)"
   ]
  },
  {
   "cell_type": "code",
   "execution_count": 283,
   "metadata": {},
   "outputs": [],
   "source": [
    "#用SVM分類\n",
    "from sklearn.svm import SVC"
   ]
  },
  {
   "cell_type": "code",
   "execution_count": 284,
   "metadata": {},
   "outputs": [],
   "source": [
    "clf = SVC()"
   ]
  },
  {
   "cell_type": "code",
   "execution_count": 285,
   "metadata": {},
   "outputs": [
    {
     "data": {
      "text/plain": [
       "SVC()"
      ]
     },
     "execution_count": 285,
     "metadata": {},
     "output_type": "execute_result"
    }
   ],
   "source": [
    "clf.fit(x_train,y_train)"
   ]
  },
  {
   "cell_type": "code",
   "execution_count": 286,
   "metadata": {},
   "outputs": [],
   "source": [
    "#預測\n",
    "y_predict = clf.predict(x_test)"
   ]
  },
  {
   "cell_type": "code",
   "execution_count": 287,
   "metadata": {},
   "outputs": [
    {
     "data": {
      "text/plain": [
       "<matplotlib.collections.PathCollection at 0x2875ddf2bb0>"
      ]
     },
     "execution_count": 287,
     "metadata": {},
     "output_type": "execute_result"
    },
    {
     "data": {
      "image/png": "[encoded data removed]",
      "text/plain": [
       "<Figure size 432x288 with 1 Axes>"
      ]
     },
     "metadata": {
      "needs_background": "light"
     },
     "output_type": "display_data"
    }
   ],
   "source": [
    "#用預測的結果去填顏色\n",
    "plt.scatter(x_test[:,0],x_test[:,1],c=y_predict)"
   ]
  },
  {
   "cell_type": "code",
   "execution_count": 252,
   "metadata": {},
   "outputs": [
    {
     "data": {
      "text/plain": [
       "<matplotlib.collections.PathCollection at 0x2875afb8760>"
      ]
     },
     "execution_count": 252,
     "metadata": {},
     "output_type": "execute_result"
    },
    {
     "data": {
      "image/png": "[encoded data removed]",
      "text/plain": [
       "<Figure size 432x288 with 1 Axes>"
      ]
     },
     "metadata": {
      "needs_background": "light"
     },
     "output_type": "display_data"
    }
   ],
   "source": [
    "#看起來不錯，但我們不知道預測的多準\n",
    "plt.scatter(x_test[:,0],x_test[:,1],c=y_predict - y_test) \n",
    "#把他跟真正正確的答案相減*y test數據的正確答案\n",
    "#如果正確的他會是0，不正確就不是0 會有不同顏色 => 黃色&紫色是分類錯"
   ]
  },
  {
   "cell_type": "markdown",
   "metadata": {},
   "source": [
    "## 0706 很酷的分類畫圖contourf"
   ]
  },
  {
   "cell_type": "code",
   "execution_count": 272,
   "metadata": {},
   "outputs": [
    {
     "data": {
      "text/plain": [
       "array([0. , 0.2, 0.4, 0.6, 0.8, 1. , 1.2, 1.4, 1.6, 1.8, 2. , 2.2, 2.4,\n",
       "       2.6, 2.8, 3. , 3.2, 3.4, 3.6, 3.8, 4. , 4.2, 4.4, 4.6, 4.8, 5. ,\n",
       "       5.2, 5.4, 5.6, 5.8, 6. , 6.2, 6.4, 6.6, 6.8, 7. , 7.2, 7.4, 7.6,\n",
       "       7.8, 8. , 8.2, 8.4, 8.6, 8.8, 9. , 9.2, 9.4, 9.6, 9.8])"
      ]
     },
     "execution_count": 272,
     "metadata": {},
     "output_type": "execute_result"
    }
   ],
   "source": [
    "np.arange(0,10,0.2)  #他可以是小數點"
   ]
  },
  {
   "cell_type": "code",
   "execution_count": 271,
   "metadata": {},
   "outputs": [
    {
     "data": {
      "text/plain": [
       "array([ 0.5,  0.7,  0.9,  1.1,  1.3,  1.5,  1.7,  1.9,  2.1,  2.3,  2.5,\n",
       "        2.7,  2.9,  3.1,  3.3,  3.5,  3.7,  3.9,  4.1,  4.3,  4.5,  4.7,\n",
       "        4.9,  5.1,  5.3,  5.5,  5.7,  5.9,  6.1,  6.3,  6.5,  6.7,  6.9,\n",
       "        7.1,  7.3,  7.5,  7.7,  7.9,  8.1,  8.3,  8.5,  8.7,  8.9,  9.1,\n",
       "        9.3,  9.5,  9.7,  9.9, 10.1])"
      ]
     },
     "execution_count": 271,
     "metadata": {},
     "output_type": "execute_result"
    }
   ],
   "source": [
    "np.arange(0.5,10.2,0.2)"
   ]
  },
  {
   "cell_type": "code",
   "execution_count": 273,
   "metadata": {},
   "outputs": [],
   "source": [
    "x1, x2 = np.meshgrid(np.arange(0,7,0.02),np.arange(0,3,0.02))\n",
    "#0.02 : 點要夠細"
   ]
  },
  {
   "cell_type": "code",
   "execution_count": 274,
   "metadata": {},
   "outputs": [],
   "source": [
    "# xx = [1,2,3,4]\n",
    "# yy = [5,6,7,8]\n",
    "# 訓練資料需要是 [[1,5],[2,6],[3,7]]"
   ]
  },
  {
   "cell_type": "code",
   "execution_count": 288,
   "metadata": {},
   "outputs": [
    {
     "data": {
      "text/plain": [
       "array([[1, 5],\n",
       "       [2, 6],\n",
       "       [3, 7],\n",
       "       [4, 8]])"
      ]
     },
     "execution_count": 288,
     "metadata": {},
     "output_type": "execute_result"
    }
   ],
   "source": [
    " xx = [1,2,3,4]\n",
    " yy = [5,6,7,8]\n",
    "np.c_[xx,yy]"
   ]
  },
  {
   "cell_type": "markdown",
   "metadata": {},
   "source": [
    "![e](c_.jpg)"
   ]
  },
  {
   "cell_type": "code",
   "execution_count": 289,
   "metadata": {},
   "outputs": [],
   "source": [
    "Z = clf.predict(np.c_[x1.ravel(),x2.ravel()])"
   ]
  },
  {
   "cell_type": "code",
   "execution_count": 290,
   "metadata": {},
   "outputs": [],
   "source": [
    "Z = Z.reshape(x1.shape)#要跟x1的隔式一樣"
   ]
  },
  {
   "cell_type": "code",
   "execution_count": 294,
   "metadata": {},
   "outputs": [
    {
     "data": {
      "text/plain": [
       "<matplotlib.collections.PathCollection at 0x2875e74b430>"
      ]
     },
     "execution_count": 294,
     "metadata": {},
     "output_type": "execute_result"
    },
    {
     "data": {
      "image/png": "[encoded data removed]",
      "text/plain": [
       "<Figure size 432x288 with 1 Axes>"
      ]
     },
     "metadata": {
      "needs_background": "light"
     },
     "output_type": "display_data"
    }
   ],
   "source": [
    "plt.contourf(x1,x2,Z,cmap=plt.cm.coolwarm, alpha = 0.7) #X Y座標和塗的顏色 cmap:顏色的主題  alpha: 不透明度\n",
    "plt.scatter(X[:,0],X[:,1],c=Y) #疊圖上去"
   ]
  },
  {
   "cell_type": "markdown",
   "metadata": {},
   "source": [
    "## 0707用Kmeans自動分類"
   ]
  },
  {
   "cell_type": "code",
   "execution_count": 296,
   "metadata": {},
   "outputs": [],
   "source": [
    "#生出100筆資料，每一筆兩個數字\n",
    "X = np.random.rand(100,2)"
   ]
  },
  {
   "cell_type": "code",
   "execution_count": 297,
   "metadata": {},
   "outputs": [
    {
     "data": {
      "text/plain": [
       "array([0.33765041, 0.73367158])"
      ]
     },
     "execution_count": 297,
     "metadata": {},
     "output_type": "execute_result"
    }
   ],
   "source": [
    "X[3]"
   ]
  },
  {
   "cell_type": "code",
   "execution_count": 300,
   "metadata": {},
   "outputs": [
    {
     "data": {
      "text/plain": [
       "<matplotlib.collections.PathCollection at 0x2875ce27640>"
      ]
     },
     "execution_count": 300,
     "metadata": {},
     "output_type": "execute_result"
    },
    {
     "data": {
      "image/png": "[encoded data removed]",
      "text/plain": [
       "<Figure size 432x288 with 1 Axes>"
      ]
     },
     "metadata": {
      "needs_background": "light"
     },
     "output_type": "display_data"
    }
   ],
   "source": [
    "plt.scatter(X[:,0],X[:,1], s=50)"
   ]
  },
  {
   "cell_type": "markdown",
   "metadata": {},
   "source": [
    "### 這些點想要讓電腦自動分成三類"
   ]
  },
  {
   "cell_type": "code",
   "execution_count": 302,
   "metadata": {},
   "outputs": [],
   "source": [
    "from sklearn.cluster import KMeans"
   ]
  },
  {
   "cell_type": "code",
   "execution_count": 304,
   "metadata": {},
   "outputs": [],
   "source": [
    "clf5 = KMeans(n_clusters=3) #打開分類機 告訴她要分成3類"
   ]
  },
  {
   "cell_type": "markdown",
   "metadata": {},
   "source": [
    "![e](kmeans.jpg)"
   ]
  },
  {
   "cell_type": "code",
   "execution_count": 306,
   "metadata": {},
   "outputs": [
    {
     "data": {
      "text/plain": [
       "KMeans(n_clusters=3)"
      ]
     },
     "execution_count": 306,
     "metadata": {},
     "output_type": "execute_result"
    }
   ],
   "source": [
    "clf5.fit(X)"
   ]
  },
  {
   "cell_type": "code",
   "execution_count": 309,
   "metadata": {},
   "outputs": [
    {
     "data": {
      "text/plain": [
       "array([0, 0, 2, 1, 2, 1, 1, 1, 2, 1, 2, 2, 1, 0, 2, 2, 1, 2, 0, 2, 0, 1,\n",
       "       0, 1, 0, 2, 1, 2, 1, 2, 1, 1, 2, 2, 1, 1, 2, 0, 0, 2, 1, 0, 0, 1,\n",
       "       1, 0, 2, 2, 2, 2, 0, 0, 1, 2, 2, 1, 2, 2, 1, 0, 2, 1, 0, 1, 1, 1,\n",
       "       2, 1, 1, 0, 1, 0, 1, 1, 0, 2, 2, 2, 1, 1, 1, 2, 1, 2, 2, 1, 0, 2,\n",
       "       2, 0, 1, 1, 2, 1, 2, 2, 1, 0, 1, 1])"
      ]
     },
     "execution_count": 309,
     "metadata": {},
     "output_type": "execute_result"
    }
   ],
   "source": [
    "clf5.labels_  # 看 kmeans 把我們的資料分成什麼"
   ]
  },
  {
   "cell_type": "code",
   "execution_count": 310,
   "metadata": {},
   "outputs": [
    {
     "data": {
      "text/plain": [
       "<matplotlib.collections.PathCollection at 0x2875e2f15e0>"
      ]
     },
     "execution_count": 310,
     "metadata": {},
     "output_type": "execute_result"
    },
    {
     "data": {
      "image/png": "[encoded data removed]",
      "text/plain": [
       "<Figure size 432x288 with 1 Axes>"
      ]
     },
     "metadata": {
      "needs_background": "light"
     },
     "output_type": "display_data"
    }
   ],
   "source": [
    "plt.scatter(X[:,0],X[:,1],c=clf5.labels_)"
   ]
  },
  {
   "cell_type": "code",
   "execution_count": null,
   "metadata": {},
   "outputs": [],
   "source": []
  }
 ],
 "metadata": {
  "kernelspec": {
   "display_name": "Python 3",
   "language": "python",
   "name": "python3"
  },
  "language_info": {
   "codemirror_mode": {
    "name": "ipython",
    "version": 3
   },
   "file_extension": ".py",
   "mimetype": "text/x-python",
   "name": "python",
   "nbconvert_exporter": "python",
   "pygments_lexer": "ipython3",
   "version": "3.8.5"
  }
 },
 "nbformat": 4,
 "nbformat_minor": 4
}
