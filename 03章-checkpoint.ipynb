{
 "cells": [
  {
   "cell_type": "code",
   "execution_count": 1,
   "metadata": {},
   "outputs": [
    {
     "name": "stdout",
     "output_type": "stream",
     "text": [
      "Populating the interactive namespace from numpy and matplotlib\n"
     ]
    }
   ],
   "source": [
    "%pylab inline  #不正規的讀套件方法"
   ]
  },
  {
   "cell_type": "code",
   "execution_count": 8,
   "metadata": {},
   "outputs": [],
   "source": [
    "from numpy import sin #把套件函數只讀進來sin的方法"
   ]
  },
  {
   "cell_type": "code",
   "execution_count": 3,
   "metadata": {},
   "outputs": [
    {
     "data": {
      "text/plain": [
       "0.1411200080598672"
      ]
     },
     "execution_count": 3,
     "metadata": {},
     "output_type": "execute_result"
    }
   ],
   "source": [
    "sin(3)"
   ]
  },
  {
   "cell_type": "code",
   "execution_count": 9,
   "metadata": {},
   "outputs": [
    {
     "data": {
      "text/plain": [
       "-0.4161468365471424"
      ]
     },
     "execution_count": 9,
     "metadata": {},
     "output_type": "execute_result"
    }
   ],
   "source": [
    "cos(2)"
   ]
  },
  {
   "cell_type": "markdown",
   "metadata": {},
   "source": [
    "#### from numpy import sin 只能讀進sin "
   ]
  },
  {
   "cell_type": "code",
   "execution_count": 5,
   "metadata": {},
   "outputs": [],
   "source": [
    "from numpy import *   #把套件函數全部讀進來的方法"
   ]
  },
  {
   "cell_type": "code",
   "execution_count": 7,
   "metadata": {},
   "outputs": [
    {
     "data": {
      "text/plain": [
       "-0.4161468365471424"
      ]
     },
     "execution_count": 7,
     "metadata": {},
     "output_type": "execute_result"
    }
   ],
   "source": [
    "cos(2)"
   ]
  },
  {
   "cell_type": "code",
   "execution_count": 10,
   "metadata": {},
   "outputs": [],
   "source": [
    "from random import *"
   ]
  },
  {
   "cell_type": "code",
   "execution_count": 11,
   "metadata": {},
   "outputs": [
    {
     "name": "stdout",
     "output_type": "stream",
     "text": [
      "3, 1, 10, 10, 7, 9, 4, 4, 6, 5, 4, 7, 10, 3, 4, 10, 6, 7, 6, 5, 4, 2, 7, 10, 1, 9, 6, 7, 10, 5, 2, 9, 1, 7, 2, 7, 10, 5, 2, 6, 10, 4, 10, 2, 3, 6, 1, 9, 8, 9, "
     ]
    }
   ],
   "source": [
    "for i in range(50):\n",
    "    print(randint(1,10), end=\", \")"
   ]
  },
  {
   "cell_type": "code",
   "execution_count": 12,
   "metadata": {},
   "outputs": [],
   "source": [
    "from numpy.random import *"
   ]
  },
  {
   "cell_type": "code",
   "execution_count": 13,
   "metadata": {},
   "outputs": [
    {
     "name": "stdout",
     "output_type": "stream",
     "text": [
      "8, 2, 2, 9, 2, 7, 6, 4, 6, 4, 9, 2, 7, 4, 4, 9, 9, 6, 3, 1, 3, 9, 2, 8, 1, 3, 6, 2, 9, 9, 8, 3, 1, 5, 8, 7, 1, 9, 9, 6, 3, 3, 1, 6, 9, 3, 5, 9, 3, 1, "
     ]
    }
   ],
   "source": [
    "for i in range(50):\n",
    "    print(randint(1,10), end=\", \")"
   ]
  },
  {
   "cell_type": "markdown",
   "metadata": {},
   "source": [
    "### 10永遠不會出現: 雖然指令的名字一模一樣，因此不推薦用\"\\*\" 的方法都讀進來，容易搞混\n",
    "### => 用import numpy 代替!"
   ]
  },
  {
   "cell_type": "code",
   "execution_count": 14,
   "metadata": {},
   "outputs": [],
   "source": [
    "import numpy"
   ]
  },
  {
   "cell_type": "markdown",
   "metadata": {},
   "source": [
    "![numpy](numpy.jpg)"
   ]
  },
  {
   "cell_type": "code",
   "execution_count": 15,
   "metadata": {},
   "outputs": [
    {
     "data": {
      "text/plain": [
       "0.1411200080598672"
      ]
     },
     "execution_count": 15,
     "metadata": {},
     "output_type": "execute_result"
    }
   ],
   "source": [
    "numpy.sin(3)"
   ]
  },
  {
   "cell_type": "code",
   "execution_count": 16,
   "metadata": {},
   "outputs": [],
   "source": [
    "import numpy as np"
   ]
  },
  {
   "cell_type": "code",
   "execution_count": 26,
   "metadata": {},
   "outputs": [
    {
     "data": {
      "text/plain": [
       "3.141592653589793"
      ]
     },
     "execution_count": 26,
     "metadata": {},
     "output_type": "execute_result"
    }
   ],
   "source": [
    "np.pi  "
   ]
  },
  {
   "cell_type": "markdown",
   "metadata": {},
   "source": [
    "## 0304數據分析的標準動作指令"
   ]
  },
  {
   "cell_type": "code",
   "execution_count": 31,
   "metadata": {},
   "outputs": [],
   "source": [
    "%matplotlib inline  \n",
    "import numpy as np\n",
    "import matplotlib.pyplot as plt"
   ]
  },
  {
   "cell_type": "markdown",
   "metadata": {},
   "source": [
    "### 以後有畫圖就直接呈現在網路上\n",
    "### 用tab鍵可以自動補完剩下的指令"
   ]
  },
  {
   "cell_type": "code",
   "execution_count": 33,
   "metadata": {},
   "outputs": [
    {
     "data": {
      "text/plain": [
       "[<matplotlib.lines.Line2D at 0x16fad1c13d0>]"
      ]
     },
     "execution_count": 33,
     "metadata": {},
     "output_type": "execute_result"
    },
    {
     "data": {
      "image/png": "[encoded data removed]",
      "text/plain": [
       "<Figure size 432x288 with 1 Axes>"
      ]
     },
     "metadata": {
      "needs_background": "light"
     },
     "output_type": "display_data"
    }
   ],
   "source": [
    "plt.plot([2,3,7,-2])"
   ]
  },
  {
   "cell_type": "code",
   "execution_count": 34,
   "metadata": {},
   "outputs": [
    {
     "data": {
      "text/plain": [
       "[<matplotlib.lines.Line2D at 0x16fad294b80>]"
      ]
     },
     "execution_count": 34,
     "metadata": {},
     "output_type": "execute_result"
    },
    {
     "data": {
      "image/png": "[encoded data removed]",
      "text/plain": [
       "<Figure size 432x288 with 1 Axes>"
      ]
     },
     "metadata": {
      "needs_background": "light"
     },
     "output_type": "display_data"
    }
   ],
   "source": [
    "plt.plot(np.random.randn(100))"
   ]
  },
  {
   "cell_type": "code",
   "execution_count": null,
   "metadata": {},
   "outputs": [],
   "source": [
    "%matplotlib inline\n",
    "import numpy as np\n",
    "import matplotlib.pyplot as plt"
   ]
  },
  {
   "cell_type": "markdown",
   "metadata": {},
   "source": [
    "## 0305 Array 導向的程式寫法"
   ]
  },
  {
   "cell_type": "code",
   "execution_count": 40,
   "metadata": {},
   "outputs": [],
   "source": [
    "P=[1096.95,596.95,896.95]\n",
    "C=30.1 #換成美金"
   ]
  },
  {
   "cell_type": "code",
   "execution_count": 39,
   "metadata": {},
   "outputs": [
    {
     "name": "stdout",
     "output_type": "stream",
     "text": [
      "33018.195\n",
      "17968.195000000003\n",
      "26998.195000000003\n"
     ]
    }
   ],
   "source": [
    "for k in P:\n",
    "    print(k*30.1)"
   ]
  },
  {
   "cell_type": "code",
   "execution_count": 43,
   "metadata": {},
   "outputs": [],
   "source": [
    "# 希望結果還是放在一個list，用append\n",
    "result=[]\n",
    "for k in P:\n",
    "    twd=k*C\n",
    "    result.append(twd)"
   ]
  },
  {
   "cell_type": "code",
   "execution_count": 44,
   "metadata": {},
   "outputs": [
    {
     "data": {
      "text/plain": [
       "[33018.195, 17968.195000000003, 26998.195000000003]"
      ]
     },
     "execution_count": 44,
     "metadata": {},
     "output_type": "execute_result"
    }
   ],
   "source": [
    "result"
   ]
  },
  {
   "cell_type": "markdown",
   "metadata": {},
   "source": [
    "## 0306"
   ]
  },
  {
   "cell_type": "code",
   "execution_count": null,
   "metadata": {},
   "outputs": [],
   "source": [
    "#數據分析能不用迴圈就盡量不要用迴圈(計算速度上的原因)"
   ]
  },
  {
   "cell_type": "code",
   "execution_count": 54,
   "metadata": {},
   "outputs": [],
   "source": [
    "p=[1096.95,596.95,896.95]\n",
    "c=30.1 #換成美金"
   ]
  },
  {
   "cell_type": "code",
   "execution_count": 53,
   "metadata": {},
   "outputs": [
    {
     "data": {
      "text/plain": [
       "array([1096.95,  596.95,  896.95])"
      ]
     },
     "execution_count": 53,
     "metadata": {},
     "output_type": "execute_result"
    }
   ],
   "source": [
    "prices = np.array(p) \n",
    "#把list 換成numpy array的方法\\\n",
    "prices"
   ]
  },
  {
   "cell_type": "code",
   "execution_count": 56,
   "metadata": {},
   "outputs": [
    {
     "data": {
      "text/plain": [
       "array([33018.195, 17968.195, 26998.195])"
      ]
     },
     "execution_count": 56,
     "metadata": {},
     "output_type": "execute_result"
    }
   ],
   "source": [
    "prices * c"
   ]
  },
  {
   "cell_type": "code",
   "execution_count": 62,
   "metadata": {},
   "outputs": [],
   "source": [
    "grades = np.array([85,70,82])"
   ]
  },
  {
   "cell_type": "code",
   "execution_count": 60,
   "metadata": {},
   "outputs": [],
   "source": [
    "weights = np.array([0.3,0.4,0.3])"
   ]
  },
  {
   "cell_type": "code",
   "execution_count": 66,
   "metadata": {},
   "outputs": [
    {
     "data": {
      "text/plain": [
       "array([25.5, 28. , 24.6])"
      ]
     },
     "execution_count": 66,
     "metadata": {},
     "output_type": "execute_result"
    }
   ],
   "source": [
    "g = grades * weights\n",
    "g\n"
   ]
  },
  {
   "cell_type": "code",
   "execution_count": 68,
   "metadata": {},
   "outputs": [
    {
     "data": {
      "text/plain": [
       "78.1"
      ]
     },
     "execution_count": 68,
     "metadata": {},
     "output_type": "execute_result"
    }
   ],
   "source": [
    "g.sum()"
   ]
  },
  {
   "cell_type": "code",
   "execution_count": 70,
   "metadata": {},
   "outputs": [
    {
     "data": {
      "text/plain": [
       "78.1"
      ]
     },
     "execution_count": 70,
     "metadata": {},
     "output_type": "execute_result"
    }
   ],
   "source": [
    "#把兩個項量作內積\n",
    "np.dot(grades,weights)"
   ]
  },
  {
   "cell_type": "code",
   "execution_count": 72,
   "metadata": {},
   "outputs": [],
   "source": [
    "grades = np.array([[85,70,82],[75,92,85],[66,67,64],[87,94,60]])"
   ]
  },
  {
   "cell_type": "code",
   "execution_count": 74,
   "metadata": {},
   "outputs": [],
   "source": [
    "weights = np.array([0.3,0.4,0.3])\n",
    "#對每個學生的成績作加權"
   ]
  },
  {
   "cell_type": "code",
   "execution_count": 76,
   "metadata": {},
   "outputs": [
    {
     "data": {
      "text/plain": [
       "array([78.1, 84.8, 65.8, 81.7])"
      ]
     },
     "execution_count": 76,
     "metadata": {},
     "output_type": "execute_result"
    }
   ],
   "source": [
    "np.dot(grades,weights)"
   ]
  },
  {
   "cell_type": "code",
   "execution_count": 91,
   "metadata": {},
   "outputs": [],
   "source": [
    "A = np.random.randn(100)"
   ]
  },
  {
   "cell_type": "code",
   "execution_count": 92,
   "metadata": {},
   "outputs": [
    {
     "data": {
      "text/plain": [
       "array([ 0.35571088,  0.87284913,  1.18792063,  0.24356328,  0.13209895,\n",
       "        0.30942319, -1.81259863, -0.27904919,  0.65077999, -1.63534902,\n",
       "       -1.54684711,  1.09847829, -1.81956069, -1.39873494,  0.00758889,\n",
       "        0.54390115, -0.39856068,  1.83398253,  0.9237234 , -0.67800313,\n",
       "       -0.39935955,  0.59090165, -0.62540364,  1.1597233 , -0.38940248,\n",
       "       -1.12093939,  1.39058039, -0.70909744, -2.96553444, -1.52806706,\n",
       "       -0.46844704, -1.68414749,  0.00471643,  1.66177321, -1.16710617,\n",
       "        0.1936501 ,  0.91544792, -0.98261355, -1.44286662,  0.78099641,\n",
       "        0.62676467,  0.07809817,  1.86151951,  0.29110681, -2.13717658,\n",
       "        0.30914309,  0.32503025, -0.95567515,  0.25755487, -0.19580822,\n",
       "        0.06962969, -3.36423968,  0.88529038, -2.04089023, -0.04717076,\n",
       "       -1.15283192, -0.02316295, -0.95775174, -0.38360627,  0.33626514,\n",
       "       -2.21816593,  0.37481447, -0.430403  ,  0.96709519,  0.05505754,\n",
       "        2.43000193, -0.64820038, -0.52463463, -0.70664571,  0.2778318 ,\n",
       "        0.48452422, -0.96865124,  0.3311084 , -0.58892251,  0.3411892 ,\n",
       "       -1.73704752,  0.20816825,  1.18323582,  0.69976398, -1.14496509,\n",
       "        1.15829287, -1.03843129,  0.20889338,  0.27486751,  0.10752339,\n",
       "        0.87376013, -0.50459248, -0.4683574 ,  1.60083294, -1.36348684,\n",
       "        0.7911436 , -0.3053229 , -0.82315492,  0.03110709,  0.23485029,\n",
       "       -0.33544046, -0.38118681,  0.32470241,  0.43237515, -0.76975807])"
      ]
     },
     "execution_count": 92,
     "metadata": {},
     "output_type": "execute_result"
    }
   ],
   "source": [
    "A"
   ]
  },
  {
   "cell_type": "code",
   "execution_count": 93,
   "metadata": {},
   "outputs": [],
   "source": [
    "A = 10*A+50"
   ]
  },
  {
   "cell_type": "code",
   "execution_count": 94,
   "metadata": {},
   "outputs": [
    {
     "data": {
      "text/plain": [
       "array([53.5571088 , 58.72849129, 61.87920627, 52.43563277, 51.32098945,\n",
       "       53.09423188, 31.87401369, 47.20950811, 56.50779989, 33.64650982,\n",
       "       34.53152891, 60.98478292, 31.8043931 , 36.01265064, 50.07588887,\n",
       "       55.43901147, 46.01439321, 68.33982529, 59.23723404, 43.21996873,\n",
       "       46.00640447, 55.90901653, 43.74596362, 61.59723303, 46.10597524,\n",
       "       38.79060606, 63.90580385, 42.90902562, 20.34465558, 34.71932936,\n",
       "       45.31552964, 33.15852507, 50.04716433, 66.61773208, 38.32893826,\n",
       "       51.93650095, 59.1544792 , 40.17386454, 35.57133379, 57.80996409,\n",
       "       56.26764673, 50.78098169, 68.61519509, 52.91106806, 28.62823415,\n",
       "       53.09143089, 53.25030247, 40.44324851, 52.57554866, 48.04191779,\n",
       "       50.69629694, 16.35760321, 58.85290375, 29.59109773, 49.52829244,\n",
       "       38.47168078, 49.76837048, 40.42248256, 46.1639373 , 53.3626514 ,\n",
       "       27.81834074, 53.74814469, 45.69597003, 59.67095194, 50.55057543,\n",
       "       74.3000193 , 43.51799617, 44.75365367, 42.93354289, 52.77831796,\n",
       "       54.84524219, 40.31348757, 53.31108396, 44.11077492, 53.411892  ,\n",
       "       32.62952479, 52.0816825 , 61.8323582 , 56.99763979, 38.5503491 ,\n",
       "       61.58292872, 39.61568707, 52.08893379, 52.74867508, 51.07523386,\n",
       "       58.73760133, 44.95407523, 45.31642596, 66.00832938, 36.36513157,\n",
       "       57.91143597, 46.94677097, 41.76845076, 50.3110709 , 52.34850286,\n",
       "       46.64559541, 46.18813185, 53.24702412, 54.32375154, 42.30241933])"
      ]
     },
     "execution_count": 94,
     "metadata": {},
     "output_type": "execute_result"
    }
   ],
   "source": [
    "A"
   ]
  },
  {
   "cell_type": "code",
   "execution_count": 95,
   "metadata": {},
   "outputs": [
    {
     "data": {
      "text/plain": [
       "(100,)"
      ]
     },
     "execution_count": 95,
     "metadata": {},
     "output_type": "execute_result"
    }
   ],
   "source": [
    "A.shape\n",
    "#A是一百維的向量"
   ]
  },
  {
   "cell_type": "code",
   "execution_count": 96,
   "metadata": {},
   "outputs": [],
   "source": [
    "A.shape = (5,20)"
   ]
  },
  {
   "cell_type": "code",
   "execution_count": 98,
   "metadata": {},
   "outputs": [
    {
     "data": {
      "text/plain": [
       "array([[53.5571088 , 58.72849129, 61.87920627, 52.43563277, 51.32098945,\n",
       "        53.09423188, 31.87401369, 47.20950811, 56.50779989, 33.64650982,\n",
       "        34.53152891, 60.98478292, 31.8043931 , 36.01265064, 50.07588887,\n",
       "        55.43901147, 46.01439321, 68.33982529, 59.23723404, 43.21996873],\n",
       "       [46.00640447, 55.90901653, 43.74596362, 61.59723303, 46.10597524,\n",
       "        38.79060606, 63.90580385, 42.90902562, 20.34465558, 34.71932936,\n",
       "        45.31552964, 33.15852507, 50.04716433, 66.61773208, 38.32893826,\n",
       "        51.93650095, 59.1544792 , 40.17386454, 35.57133379, 57.80996409],\n",
       "       [56.26764673, 50.78098169, 68.61519509, 52.91106806, 28.62823415,\n",
       "        53.09143089, 53.25030247, 40.44324851, 52.57554866, 48.04191779,\n",
       "        50.69629694, 16.35760321, 58.85290375, 29.59109773, 49.52829244,\n",
       "        38.47168078, 49.76837048, 40.42248256, 46.1639373 , 53.3626514 ],\n",
       "       [27.81834074, 53.74814469, 45.69597003, 59.67095194, 50.55057543,\n",
       "        74.3000193 , 43.51799617, 44.75365367, 42.93354289, 52.77831796,\n",
       "        54.84524219, 40.31348757, 53.31108396, 44.11077492, 53.411892  ,\n",
       "        32.62952479, 52.0816825 , 61.8323582 , 56.99763979, 38.5503491 ],\n",
       "       [61.58292872, 39.61568707, 52.08893379, 52.74867508, 51.07523386,\n",
       "        58.73760133, 44.95407523, 45.31642596, 66.00832938, 36.36513157,\n",
       "        57.91143597, 46.94677097, 41.76845076, 50.3110709 , 52.34850286,\n",
       "        46.64559541, 46.18813185, 53.24702412, 54.32375154, 42.30241933]])"
      ]
     },
     "execution_count": 98,
     "metadata": {},
     "output_type": "execute_result"
    }
   ],
   "source": [
    "A\n",
    "#第一列的20個數據是List的第一個元素"
   ]
  },
  {
   "cell_type": "code",
   "execution_count": 100,
   "metadata": {},
   "outputs": [
    {
     "data": {
      "text/plain": [
       "array([[53.5571088 ],\n",
       "       [58.72849129],\n",
       "       [61.87920627],\n",
       "       [52.43563277],\n",
       "       [51.32098945],\n",
       "       [53.09423188],\n",
       "       [31.87401369],\n",
       "       [47.20950811],\n",
       "       [56.50779989],\n",
       "       [33.64650982],\n",
       "       [34.53152891],\n",
       "       [60.98478292],\n",
       "       [31.8043931 ],\n",
       "       [36.01265064],\n",
       "       [50.07588887],\n",
       "       [55.43901147],\n",
       "       [46.01439321],\n",
       "       [68.33982529],\n",
       "       [59.23723404],\n",
       "       [43.21996873],\n",
       "       [46.00640447],\n",
       "       [55.90901653],\n",
       "       [43.74596362],\n",
       "       [61.59723303],\n",
       "       [46.10597524],\n",
       "       [38.79060606],\n",
       "       [63.90580385],\n",
       "       [42.90902562],\n",
       "       [20.34465558],\n",
       "       [34.71932936],\n",
       "       [45.31552964],\n",
       "       [33.15852507],\n",
       "       [50.04716433],\n",
       "       [66.61773208],\n",
       "       [38.32893826],\n",
       "       [51.93650095],\n",
       "       [59.1544792 ],\n",
       "       [40.17386454],\n",
       "       [35.57133379],\n",
       "       [57.80996409],\n",
       "       [56.26764673],\n",
       "       [50.78098169],\n",
       "       [68.61519509],\n",
       "       [52.91106806],\n",
       "       [28.62823415],\n",
       "       [53.09143089],\n",
       "       [53.25030247],\n",
       "       [40.44324851],\n",
       "       [52.57554866],\n",
       "       [48.04191779],\n",
       "       [50.69629694],\n",
       "       [16.35760321],\n",
       "       [58.85290375],\n",
       "       [29.59109773],\n",
       "       [49.52829244],\n",
       "       [38.47168078],\n",
       "       [49.76837048],\n",
       "       [40.42248256],\n",
       "       [46.1639373 ],\n",
       "       [53.3626514 ],\n",
       "       [27.81834074],\n",
       "       [53.74814469],\n",
       "       [45.69597003],\n",
       "       [59.67095194],\n",
       "       [50.55057543],\n",
       "       [74.3000193 ],\n",
       "       [43.51799617],\n",
       "       [44.75365367],\n",
       "       [42.93354289],\n",
       "       [52.77831796],\n",
       "       [54.84524219],\n",
       "       [40.31348757],\n",
       "       [53.31108396],\n",
       "       [44.11077492],\n",
       "       [53.411892  ],\n",
       "       [32.62952479],\n",
       "       [52.0816825 ],\n",
       "       [61.8323582 ],\n",
       "       [56.99763979],\n",
       "       [38.5503491 ],\n",
       "       [61.58292872],\n",
       "       [39.61568707],\n",
       "       [52.08893379],\n",
       "       [52.74867508],\n",
       "       [51.07523386],\n",
       "       [58.73760133],\n",
       "       [44.95407523],\n",
       "       [45.31642596],\n",
       "       [66.00832938],\n",
       "       [36.36513157],\n",
       "       [57.91143597],\n",
       "       [46.94677097],\n",
       "       [41.76845076],\n",
       "       [50.3110709 ],\n",
       "       [52.34850286],\n",
       "       [46.64559541],\n",
       "       [46.18813185],\n",
       "       [53.24702412],\n",
       "       [54.32375154],\n",
       "       [42.30241933]])"
      ]
     },
     "execution_count": 100,
     "metadata": {},
     "output_type": "execute_result"
    }
   ],
   "source": [
    "#另外一個改變array型狀的方法\n",
    "A.reshape(100,1)"
   ]
  },
  {
   "cell_type": "code",
   "execution_count": 101,
   "metadata": {},
   "outputs": [
    {
     "data": {
      "text/plain": [
       "array([[53.5571088 , 58.72849129, 61.87920627, 52.43563277, 51.32098945,\n",
       "        53.09423188, 31.87401369, 47.20950811, 56.50779989, 33.64650982,\n",
       "        34.53152891, 60.98478292, 31.8043931 , 36.01265064, 50.07588887,\n",
       "        55.43901147, 46.01439321, 68.33982529, 59.23723404, 43.21996873],\n",
       "       [46.00640447, 55.90901653, 43.74596362, 61.59723303, 46.10597524,\n",
       "        38.79060606, 63.90580385, 42.90902562, 20.34465558, 34.71932936,\n",
       "        45.31552964, 33.15852507, 50.04716433, 66.61773208, 38.32893826,\n",
       "        51.93650095, 59.1544792 , 40.17386454, 35.57133379, 57.80996409],\n",
       "       [56.26764673, 50.78098169, 68.61519509, 52.91106806, 28.62823415,\n",
       "        53.09143089, 53.25030247, 40.44324851, 52.57554866, 48.04191779,\n",
       "        50.69629694, 16.35760321, 58.85290375, 29.59109773, 49.52829244,\n",
       "        38.47168078, 49.76837048, 40.42248256, 46.1639373 , 53.3626514 ],\n",
       "       [27.81834074, 53.74814469, 45.69597003, 59.67095194, 50.55057543,\n",
       "        74.3000193 , 43.51799617, 44.75365367, 42.93354289, 52.77831796,\n",
       "        54.84524219, 40.31348757, 53.31108396, 44.11077492, 53.411892  ,\n",
       "        32.62952479, 52.0816825 , 61.8323582 , 56.99763979, 38.5503491 ],\n",
       "       [61.58292872, 39.61568707, 52.08893379, 52.74867508, 51.07523386,\n",
       "        58.73760133, 44.95407523, 45.31642596, 66.00832938, 36.36513157,\n",
       "        57.91143597, 46.94677097, 41.76845076, 50.3110709 , 52.34850286,\n",
       "        46.64559541, 46.18813185, 53.24702412, 54.32375154, 42.30241933]])"
      ]
     },
     "execution_count": 101,
     "metadata": {},
     "output_type": "execute_result"
    }
   ],
   "source": [
    "A\n",
    "#因為Reshape會產生新的多維出來，不會改變原來的array"
   ]
  },
  {
   "cell_type": "code",
   "execution_count": 103,
   "metadata": {},
   "outputs": [
    {
     "data": {
      "text/plain": [
       "array([[53.5571088 ],\n",
       "       [58.72849129],\n",
       "       [61.87920627],\n",
       "       [52.43563277],\n",
       "       [51.32098945],\n",
       "       [53.09423188],\n",
       "       [31.87401369],\n",
       "       [47.20950811],\n",
       "       [56.50779989],\n",
       "       [33.64650982],\n",
       "       [34.53152891],\n",
       "       [60.98478292],\n",
       "       [31.8043931 ],\n",
       "       [36.01265064],\n",
       "       [50.07588887],\n",
       "       [55.43901147],\n",
       "       [46.01439321],\n",
       "       [68.33982529],\n",
       "       [59.23723404],\n",
       "       [43.21996873],\n",
       "       [46.00640447],\n",
       "       [55.90901653],\n",
       "       [43.74596362],\n",
       "       [61.59723303],\n",
       "       [46.10597524],\n",
       "       [38.79060606],\n",
       "       [63.90580385],\n",
       "       [42.90902562],\n",
       "       [20.34465558],\n",
       "       [34.71932936],\n",
       "       [45.31552964],\n",
       "       [33.15852507],\n",
       "       [50.04716433],\n",
       "       [66.61773208],\n",
       "       [38.32893826],\n",
       "       [51.93650095],\n",
       "       [59.1544792 ],\n",
       "       [40.17386454],\n",
       "       [35.57133379],\n",
       "       [57.80996409],\n",
       "       [56.26764673],\n",
       "       [50.78098169],\n",
       "       [68.61519509],\n",
       "       [52.91106806],\n",
       "       [28.62823415],\n",
       "       [53.09143089],\n",
       "       [53.25030247],\n",
       "       [40.44324851],\n",
       "       [52.57554866],\n",
       "       [48.04191779],\n",
       "       [50.69629694],\n",
       "       [16.35760321],\n",
       "       [58.85290375],\n",
       "       [29.59109773],\n",
       "       [49.52829244],\n",
       "       [38.47168078],\n",
       "       [49.76837048],\n",
       "       [40.42248256],\n",
       "       [46.1639373 ],\n",
       "       [53.3626514 ],\n",
       "       [27.81834074],\n",
       "       [53.74814469],\n",
       "       [45.69597003],\n",
       "       [59.67095194],\n",
       "       [50.55057543],\n",
       "       [74.3000193 ],\n",
       "       [43.51799617],\n",
       "       [44.75365367],\n",
       "       [42.93354289],\n",
       "       [52.77831796],\n",
       "       [54.84524219],\n",
       "       [40.31348757],\n",
       "       [53.31108396],\n",
       "       [44.11077492],\n",
       "       [53.411892  ],\n",
       "       [32.62952479],\n",
       "       [52.0816825 ],\n",
       "       [61.8323582 ],\n",
       "       [56.99763979],\n",
       "       [38.5503491 ],\n",
       "       [61.58292872],\n",
       "       [39.61568707],\n",
       "       [52.08893379],\n",
       "       [52.74867508],\n",
       "       [51.07523386],\n",
       "       [58.73760133],\n",
       "       [44.95407523],\n",
       "       [45.31642596],\n",
       "       [66.00832938],\n",
       "       [36.36513157],\n",
       "       [57.91143597],\n",
       "       [46.94677097],\n",
       "       [41.76845076],\n",
       "       [50.3110709 ],\n",
       "       [52.34850286],\n",
       "       [46.64559541],\n",
       "       [46.18813185],\n",
       "       [53.24702412],\n",
       "       [54.32375154],\n",
       "       [42.30241933]])"
      ]
     },
     "execution_count": 103,
     "metadata": {},
     "output_type": "execute_result"
    }
   ],
   "source": [
    "A=A.reshape(100,1)\n",
    "A\n",
    "#要這樣Reshape才會改變"
   ]
  },
  {
   "cell_type": "markdown",
   "metadata": {},
   "source": [
    "## 0310 numpy中快速生產array的方法"
   ]
  },
  {
   "cell_type": "code",
   "execution_count": 106,
   "metadata": {},
   "outputs": [
    {
     "data": {
      "text/plain": [
       "[[0, 0],\n",
       " [0, 1],\n",
       " [0, 2],\n",
       " [0, 3],\n",
       " [1, 0],\n",
       " [1, 1],\n",
       " [1, 2],\n",
       " [1, 3],\n",
       " [2, 0],\n",
       " [2, 1],\n",
       " [2, 2],\n",
       " [2, 3],\n",
       " [3, 0],\n",
       " [3, 1],\n",
       " [3, 2],\n",
       " [3, 3],\n",
       " [4, 0],\n",
       " [4, 1],\n",
       " [4, 2],\n",
       " [4, 3],\n",
       " [5, 0],\n",
       " [5, 1],\n",
       " [5, 2],\n",
       " [5, 3],\n",
       " [6, 0],\n",
       " [6, 1],\n",
       " [6, 2],\n",
       " [6, 3],\n",
       " [7, 0],\n",
       " [7, 1],\n",
       " [7, 2],\n",
       " [7, 3]]"
      ]
     },
     "execution_count": 106,
     "metadata": {},
     "output_type": "execute_result"
    }
   ],
   "source": [
    "xy = [[x,y] for x in range(8) for y in range(4) ]\n",
    "xy"
   ]
  },
  {
   "cell_type": "code",
   "execution_count": 108,
   "metadata": {},
   "outputs": [
    {
     "data": {
      "text/plain": [
       "array([[0, 0],\n",
       "       [0, 1],\n",
       "       [0, 2],\n",
       "       [0, 3],\n",
       "       [1, 0],\n",
       "       [1, 1],\n",
       "       [1, 2],\n",
       "       [1, 3],\n",
       "       [2, 0],\n",
       "       [2, 1],\n",
       "       [2, 2],\n",
       "       [2, 3],\n",
       "       [3, 0],\n",
       "       [3, 1],\n",
       "       [3, 2],\n",
       "       [3, 3],\n",
       "       [4, 0],\n",
       "       [4, 1],\n",
       "       [4, 2],\n",
       "       [4, 3],\n",
       "       [5, 0],\n",
       "       [5, 1],\n",
       "       [5, 2],\n",
       "       [5, 3],\n",
       "       [6, 0],\n",
       "       [6, 1],\n",
       "       [6, 2],\n",
       "       [6, 3],\n",
       "       [7, 0],\n",
       "       [7, 1],\n",
       "       [7, 2],\n",
       "       [7, 3]])"
      ]
     },
     "execution_count": 108,
     "metadata": {},
     "output_type": "execute_result"
    }
   ],
   "source": [
    "#快速生成一定範圍array的方法1\n",
    "xy = np.array(xy)\n",
    "xy"
   ]
  },
  {
   "cell_type": "code",
   "execution_count": 109,
   "metadata": {},
   "outputs": [
    {
     "data": {
      "text/plain": [
       "array([0., 0., 0., 0., 0., 0., 0., 0., 0., 0.])"
      ]
     },
     "execution_count": 109,
     "metadata": {},
     "output_type": "execute_result"
    }
   ],
   "source": [
    "#快速生成一定範圍array的方法2\n",
    "#都是0的array\n",
    "np.zeros(10)"
   ]
  },
  {
   "cell_type": "code",
   "execution_count": 110,
   "metadata": {},
   "outputs": [
    {
     "data": {
      "text/plain": [
       "array([[0., 0., 0., 0.],\n",
       "       [0., 0., 0., 0.],\n",
       "       [0., 0., 0., 0.]])"
      ]
     },
     "execution_count": 110,
     "metadata": {},
     "output_type": "execute_result"
    }
   ],
   "source": [
    "np.zeros((3,4))"
   ]
  },
  {
   "cell_type": "code",
   "execution_count": 111,
   "metadata": {},
   "outputs": [
    {
     "data": {
      "text/plain": [
       "array([1., 1., 1., 1., 1.])"
      ]
     },
     "execution_count": 111,
     "metadata": {},
     "output_type": "execute_result"
    }
   ],
   "source": [
    "np.ones(5)"
   ]
  },
  {
   "cell_type": "markdown",
   "metadata": {},
   "source": [
    "![ffxr](array生成.jpg)"
   ]
  },
  {
   "cell_type": "code",
   "execution_count": 117,
   "metadata": {},
   "outputs": [
    {
     "data": {
      "text/plain": [
       "array([[1., 0., 0., 0., 0.],\n",
       "       [0., 1., 0., 0., 0.],\n",
       "       [0., 0., 1., 0., 0.],\n",
       "       [0., 0., 0., 1., 0.],\n",
       "       [0., 0., 0., 0., 1.]])"
      ]
     },
     "execution_count": 117,
     "metadata": {},
     "output_type": "execute_result"
    }
   ],
   "source": [
    "np.eye(5)"
   ]
  },
  {
   "cell_type": "code",
   "execution_count": 118,
   "metadata": {},
   "outputs": [],
   "source": [
    "y=np.random.randn(50)"
   ]
  },
  {
   "cell_type": "code",
   "execution_count": 119,
   "metadata": {},
   "outputs": [
    {
     "data": {
      "text/plain": [
       "[<matplotlib.lines.Line2D at 0x16fae1dd460>]"
      ]
     },
     "execution_count": 119,
     "metadata": {},
     "output_type": "execute_result"
    },
    {
     "data": {
      "image/png": "[encoded data removed]",
      "text/plain": [
       "<Figure size 432x288 with 1 Axes>"
      ]
     },
     "metadata": {
      "needs_background": "light"
     },
     "output_type": "display_data"
    }
   ],
   "source": [
    "plt.plot(y)"
   ]
  },
  {
   "cell_type": "code",
   "execution_count": 123,
   "metadata": {},
   "outputs": [],
   "source": [
    "x = np.linspace(0,10,100)\n",
    "# 從0-10取100個點(起始值,結束值,多少點)"
   ]
  },
  {
   "cell_type": "code",
   "execution_count": 125,
   "metadata": {},
   "outputs": [
    {
     "data": {
      "text/plain": [
       "array([ 0.        ,  0.1010101 ,  0.2020202 ,  0.3030303 ,  0.4040404 ,\n",
       "        0.50505051,  0.60606061,  0.70707071,  0.80808081,  0.90909091,\n",
       "        1.01010101,  1.11111111,  1.21212121,  1.31313131,  1.41414141,\n",
       "        1.51515152,  1.61616162,  1.71717172,  1.81818182,  1.91919192,\n",
       "        2.02020202,  2.12121212,  2.22222222,  2.32323232,  2.42424242,\n",
       "        2.52525253,  2.62626263,  2.72727273,  2.82828283,  2.92929293,\n",
       "        3.03030303,  3.13131313,  3.23232323,  3.33333333,  3.43434343,\n",
       "        3.53535354,  3.63636364,  3.73737374,  3.83838384,  3.93939394,\n",
       "        4.04040404,  4.14141414,  4.24242424,  4.34343434,  4.44444444,\n",
       "        4.54545455,  4.64646465,  4.74747475,  4.84848485,  4.94949495,\n",
       "        5.05050505,  5.15151515,  5.25252525,  5.35353535,  5.45454545,\n",
       "        5.55555556,  5.65656566,  5.75757576,  5.85858586,  5.95959596,\n",
       "        6.06060606,  6.16161616,  6.26262626,  6.36363636,  6.46464646,\n",
       "        6.56565657,  6.66666667,  6.76767677,  6.86868687,  6.96969697,\n",
       "        7.07070707,  7.17171717,  7.27272727,  7.37373737,  7.47474747,\n",
       "        7.57575758,  7.67676768,  7.77777778,  7.87878788,  7.97979798,\n",
       "        8.08080808,  8.18181818,  8.28282828,  8.38383838,  8.48484848,\n",
       "        8.58585859,  8.68686869,  8.78787879,  8.88888889,  8.98989899,\n",
       "        9.09090909,  9.19191919,  9.29292929,  9.39393939,  9.49494949,\n",
       "        9.5959596 ,  9.6969697 ,  9.7979798 ,  9.8989899 , 10.        ])"
      ]
     },
     "execution_count": 125,
     "metadata": {},
     "output_type": "execute_result"
    }
   ],
   "source": [
    "x"
   ]
  },
  {
   "cell_type": "code",
   "execution_count": 127,
   "metadata": {},
   "outputs": [
    {
     "data": {
      "text/plain": [
       "[<matplotlib.lines.Line2D at 0x16faecfe280>]"
      ]
     },
     "execution_count": 127,
     "metadata": {},
     "output_type": "execute_result"
    },
    {
     "data": {
      "image/png": "[encoded data removed]",
      "text/plain": [
       "<Figure size 432x288 with 1 Axes>"
      ]
     },
     "metadata": {
      "needs_background": "light"
     },
     "output_type": "display_data"
    }
   ],
   "source": [
    "plt.plot(x,np.sin(x))"
   ]
  },
  {
   "cell_type": "code",
   "execution_count": 128,
   "metadata": {},
   "outputs": [
    {
     "data": {
      "text/plain": [
       "[<matplotlib.lines.Line2D at 0x16faedd9280>]"
      ]
     },
     "execution_count": 128,
     "metadata": {},
     "output_type": "execute_result"
    },
    {
     "data": {
      "image/png": "[encoded data removed]",
      "text/plain": [
       "<Figure size 432x288 with 1 Axes>"
      ]
     },
     "metadata": {
      "needs_background": "light"
     },
     "output_type": "display_data"
    }
   ],
   "source": [
    "plt.plot(x,np.sin(x))\n",
    "plt.plot(x,np.cos(x))\n",
    "#同時畫兩個圖形"
   ]
  },
  {
   "cell_type": "markdown",
   "metadata": {},
   "source": [
    "## 0312Array快篩法\n"
   ]
  },
  {
   "cell_type": "code",
   "execution_count": 129,
   "metadata": {},
   "outputs": [],
   "source": [
    "L = np.array([4,66,74,-4,6,-55])"
   ]
  },
  {
   "cell_type": "code",
   "execution_count": 130,
   "metadata": {},
   "outputs": [
    {
     "data": {
      "text/plain": [
       "array([False, False, False,  True, False,  True])"
      ]
     },
     "execution_count": 130,
     "metadata": {},
     "output_type": "execute_result"
    }
   ],
   "source": [
    "L < 0\n",
    "#把<0的數字找出來"
   ]
  },
  {
   "cell_type": "code",
   "execution_count": 132,
   "metadata": {},
   "outputs": [
    {
     "data": {
      "text/plain": [
       "array([ -4, -55])"
      ]
     },
     "execution_count": 132,
     "metadata": {},
     "output_type": "execute_result"
    }
   ],
   "source": [
    "L[L < 0]"
   ]
  },
  {
   "cell_type": "code",
   "execution_count": 133,
   "metadata": {},
   "outputs": [
    {
     "data": {
      "text/plain": [
       "array([74, -4])"
      ]
     },
     "execution_count": 133,
     "metadata": {},
     "output_type": "execute_result"
    }
   ],
   "source": [
    "L[2:4]"
   ]
  },
  {
   "cell_type": "markdown",
   "metadata": {},
   "source": [
    "![3](array快篩.jpg)"
   ]
  },
  {
   "cell_type": "code",
   "execution_count": 134,
   "metadata": {},
   "outputs": [
    {
     "data": {
      "text/plain": [
       "[<matplotlib.lines.Line2D at 0x16fae1bda00>]"
      ]
     },
     "execution_count": 134,
     "metadata": {},
     "output_type": "execute_result"
    },
    {
     "data": {
      "image/png": "[encoded data removed]",
      "text/plain": [
       "<Figure size 432x288 with 1 Axes>"
      ]
     },
     "metadata": {
      "needs_background": "light"
     },
     "output_type": "display_data"
    }
   ],
   "source": [
    "x=np.linspace(-5,5,100)\n",
    "y=np.sinc(x)\n",
    "plot(x,y)"
   ]
  },
  {
   "cell_type": "code",
   "execution_count": 138,
   "metadata": {},
   "outputs": [
    {
     "data": {
      "text/plain": [
       "[<matplotlib.lines.Line2D at 0x16faee41b50>]"
      ]
     },
     "execution_count": 138,
     "metadata": {},
     "output_type": "execute_result"
    },
    {
     "data": {
      "image/png": "[encoded data removed]",
      "text/plain": [
       "<Figure size 432x288 with 1 Axes>"
      ]
     },
     "metadata": {
      "needs_background": "light"
     },
     "output_type": "display_data"
    }
   ],
   "source": [
    "#把這個函數正的部分用另一個顏色顯示出來\n",
    "plt.plot(x,y)\n",
    "plt.plot(x[y>0],y[y>0],'o')"
   ]
  },
  {
   "cell_type": "code",
   "execution_count": null,
   "metadata": {},
   "outputs": [],
   "source": []
  }
 ],
 "metadata": {
  "kernelspec": {
   "display_name": "Python 3",
   "language": "python",
   "name": "python3"
  },
  "language_info": {
   "codemirror_mode": {
    "name": "ipython",
    "version": 3
   },
   "file_extension": ".py",
   "mimetype": "text/x-python",
   "name": "python",
   "nbconvert_exporter": "python",
   "pygments_lexer": "ipython3",
   "version": "3.8.5"
  }
 },
 "nbformat": 4,
 "nbformat_minor": 4
}
