{
 "cells": [
  {
   "cell_type": "markdown",
   "metadata": {},
   "source": [
    "## 線性回歸"
   ]
  },
  {
   "cell_type": "markdown",
   "metadata": {},
   "source": [
    "![r](reg.jpg)"
   ]
  },
  {
   "cell_type": "markdown",
   "metadata": {},
   "source": [
    "![r](reg2.jpg)"
   ]
  },
  {
   "cell_type": "markdown",
   "metadata": {},
   "source": [
    "![r](reg3.jpg)"
   ]
  },
  {
   "cell_type": "markdown",
   "metadata": {},
   "source": [
    "## 準備要模擬的資料 (自己做假資料)"
   ]
  },
  {
   "cell_type": "code",
   "execution_count": 159,
   "metadata": {},
   "outputs": [],
   "source": [
    "%matplotlib inline\n",
    "import numpy as np\n",
    "import matplotlib.pylab as plt"
   ]
  },
  {
   "cell_type": "markdown",
   "metadata": {},
   "source": [
    "![r](reg4.jpg)"
   ]
  },
  {
   "cell_type": "code",
   "execution_count": 91,
   "metadata": {},
   "outputs": [],
   "source": [
    "x = np.linspace(0,5,50) #0-5取 50 個點"
   ]
  },
  {
   "cell_type": "code",
   "execution_count": 92,
   "metadata": {},
   "outputs": [],
   "source": [
    "y = 1.2*x+0.8 # y也會有50個點(每個x對應一個y)"
   ]
  },
  {
   "cell_type": "code",
   "execution_count": 93,
   "metadata": {},
   "outputs": [
    {
     "data": {
      "text/plain": [
       "<matplotlib.collections.PathCollection at 0x2418fe8e790>"
      ]
     },
     "execution_count": 93,
     "metadata": {},
     "output_type": "execute_result"
    },
    {
     "data": {
      "image/png": "[encoded data removed]",
      "text/plain": [
       "<Figure size 432x288 with 1 Axes>"
      ]
     },
     "metadata": {
      "needs_background": "light"
     },
     "output_type": "display_data"
    }
   ],
   "source": [
    "plt.scatter(x,y) #我們觀測到的資料"
   ]
  },
  {
   "cell_type": "code",
   "execution_count": 7,
   "metadata": {},
   "outputs": [
    {
     "data": {
      "text/plain": [
       "[<matplotlib.lines.Line2D at 0x24185df6c70>]"
      ]
     },
     "execution_count": 7,
     "metadata": {},
     "output_type": "execute_result"
    },
    {
     "data": {
      "image/png": "[encoded data removed]",
      "text/plain": [
       "<Figure size 432x288 with 1 Axes>"
      ]
     },
     "metadata": {
      "needs_background": "light"
     },
     "output_type": "display_data"
    }
   ],
   "source": [
    "plt.plot(x,y,'r') #真實世界那條完美的函數"
   ]
  },
  {
   "cell_type": "code",
   "execution_count": 94,
   "metadata": {},
   "outputs": [],
   "source": [
    "#加入noise(誤差) 讓資料看起來更真實\n",
    "# randn:平均值是0 標準差是1的數字\n",
    "y = 1.2*x + 0.8 + 0.6*np.random.randn(50) #隨機的取出50個點"
   ]
  },
  {
   "cell_type": "code",
   "execution_count": 95,
   "metadata": {},
   "outputs": [
    {
     "data": {
      "text/plain": [
       "[<matplotlib.lines.Line2D at 0x2418fec0af0>]"
      ]
     },
     "execution_count": 95,
     "metadata": {},
     "output_type": "execute_result"
    },
    {
     "data": {
      "image/png": "[encoded data removed]",
      "text/plain": [
       "<Figure size 432x288 with 1 Axes>"
      ]
     },
     "metadata": {
      "needs_background": "light"
     },
     "output_type": "display_data"
    }
   ],
   "source": [
    "plt.scatter(x,y) #我們觀測到的資料 真實世界的圖\n",
    "plt.plot(x,1.2*x+0.8,'r') #完美函數的圖"
   ]
  },
  {
   "cell_type": "markdown",
   "metadata": {},
   "source": [
    "## 0604假的資料 真的回歸: 我們觀察到藍色的點，可不可以自己把紅色的線畫出來?"
   ]
  },
  {
   "cell_type": "code",
   "execution_count": 96,
   "metadata": {},
   "outputs": [
    {
     "data": {
      "text/plain": [
       "array([0.        , 0.10204082, 0.20408163, 0.30612245, 0.40816327,\n",
       "       0.51020408, 0.6122449 , 0.71428571, 0.81632653, 0.91836735,\n",
       "       1.02040816, 1.12244898, 1.2244898 , 1.32653061, 1.42857143,\n",
       "       1.53061224, 1.63265306, 1.73469388, 1.83673469, 1.93877551,\n",
       "       2.04081633, 2.14285714, 2.24489796, 2.34693878, 2.44897959,\n",
       "       2.55102041, 2.65306122, 2.75510204, 2.85714286, 2.95918367,\n",
       "       3.06122449, 3.16326531, 3.26530612, 3.36734694, 3.46938776,\n",
       "       3.57142857, 3.67346939, 3.7755102 , 3.87755102, 3.97959184,\n",
       "       4.08163265, 4.18367347, 4.28571429, 4.3877551 , 4.48979592,\n",
       "       4.59183673, 4.69387755, 4.79591837, 4.89795918, 5.        ])"
      ]
     },
     "execution_count": 96,
     "metadata": {},
     "output_type": "execute_result"
    }
   ],
   "source": [
    "x"
   ]
  },
  {
   "cell_type": "markdown",
   "metadata": {},
   "source": [
    "### 每個資料要分常明確的括弧起來: 1x50 => 50x1的陣列\n",
    "![r](sklearn.jpg)"
   ]
  },
  {
   "cell_type": "code",
   "execution_count": 97,
   "metadata": {},
   "outputs": [],
   "source": [
    "from sklearn.linear_model import LinearRegression"
   ]
  },
  {
   "cell_type": "code",
   "execution_count": 98,
   "metadata": {},
   "outputs": [],
   "source": [
    "#先開一空的機器給他(線性回歸的機器)\n",
    "regr = LinearRegression()  #開線性回歸機的方法"
   ]
  },
  {
   "cell_type": "code",
   "execution_count": 99,
   "metadata": {},
   "outputs": [
    {
     "data": {
      "text/plain": [
       "array([[0.        ],\n",
       "       [0.10204082],\n",
       "       [0.20408163],\n",
       "       [0.30612245],\n",
       "       [0.40816327],\n",
       "       [0.51020408],\n",
       "       [0.6122449 ],\n",
       "       [0.71428571],\n",
       "       [0.81632653],\n",
       "       [0.91836735],\n",
       "       [1.02040816],\n",
       "       [1.12244898],\n",
       "       [1.2244898 ],\n",
       "       [1.32653061],\n",
       "       [1.42857143],\n",
       "       [1.53061224],\n",
       "       [1.63265306],\n",
       "       [1.73469388],\n",
       "       [1.83673469],\n",
       "       [1.93877551],\n",
       "       [2.04081633],\n",
       "       [2.14285714],\n",
       "       [2.24489796],\n",
       "       [2.34693878],\n",
       "       [2.44897959],\n",
       "       [2.55102041],\n",
       "       [2.65306122],\n",
       "       [2.75510204],\n",
       "       [2.85714286],\n",
       "       [2.95918367],\n",
       "       [3.06122449],\n",
       "       [3.16326531],\n",
       "       [3.26530612],\n",
       "       [3.36734694],\n",
       "       [3.46938776],\n",
       "       [3.57142857],\n",
       "       [3.67346939],\n",
       "       [3.7755102 ],\n",
       "       [3.87755102],\n",
       "       [3.97959184],\n",
       "       [4.08163265],\n",
       "       [4.18367347],\n",
       "       [4.28571429],\n",
       "       [4.3877551 ],\n",
       "       [4.48979592],\n",
       "       [4.59183673],\n",
       "       [4.69387755],\n",
       "       [4.79591837],\n",
       "       [4.89795918],\n",
       "       [5.        ]])"
      ]
     },
     "execution_count": 99,
     "metadata": {},
     "output_type": "execute_result"
    }
   ],
   "source": [
    "X = x.reshape(50,1) #改變array形狀\n",
    "X"
   ]
  },
  {
   "cell_type": "code",
   "execution_count": 100,
   "metadata": {},
   "outputs": [
    {
     "data": {
      "text/plain": [
       "LinearRegression()"
      ]
     },
     "execution_count": 100,
     "metadata": {},
     "output_type": "execute_result"
    }
   ],
   "source": [
    "#餵資料給線性回歸機\n",
    "# fit:想去學習\n",
    "regr.fit(X,y) #給他x和 正確資料y"
   ]
  },
  {
   "cell_type": "markdown",
   "metadata": {},
   "source": [
    "![e](regr.jpg)"
   ]
  },
  {
   "cell_type": "code",
   "execution_count": 101,
   "metadata": {},
   "outputs": [],
   "source": [
    "# y是本來的正確答案\n",
    "# Y是我們學習後的答案\n",
    "Y = regr.predict(X) #他沒學過的東西希望能把值估出來"
   ]
  },
  {
   "cell_type": "code",
   "execution_count": null,
   "metadata": {},
   "outputs": [],
   "source": []
  },
  {
   "cell_type": "code",
   "execution_count": 104,
   "metadata": {},
   "outputs": [
    {
     "data": {
      "text/plain": [
       "[<matplotlib.lines.Line2D at 0x2418ff80a30>]"
      ]
     },
     "execution_count": 104,
     "metadata": {},
     "output_type": "execute_result"
    },
    {
     "data": {
      "image/png": "[encoded data removed]",
      "text/plain": [
       "<Figure size 432x288 with 1 Axes>"
      ]
     },
     "metadata": {
      "needs_background": "light"
     },
     "output_type": "display_data"
    }
   ],
   "source": [
    "plt.scatter(x,y) #畫正確答案(真實世界觀察到的樣子)\n",
    "plt.plot(x,Y,'r') #用線性回歸機做出來的 x用大小寫都可以\n",
    "plt.plot(x,1.2*x +0.8,'g') #真正的完美答案(完美世界的函數)"
   ]
  },
  {
   "cell_type": "markdown",
   "metadata": {},
   "source": [
    "## 0605 overfitting"
   ]
  },
  {
   "cell_type": "code",
   "execution_count": 41,
   "metadata": {},
   "outputs": [],
   "source": [
    "from ipywidgets import interact"
   ]
  },
  {
   "cell_type": "code",
   "execution_count": 29,
   "metadata": {
    "scrolled": true
   },
   "outputs": [
    {
     "data": {
      "text/plain": [
       "<matplotlib.collections.PathCollection at 0x241896b4700>"
      ]
     },
     "execution_count": 29,
     "metadata": {},
     "output_type": "execute_result"
    },
    {
     "data": {
      "image/png": "[encoded data removed]",
      "text/plain": [
       "<Figure size 432x288 with 1 Axes>"
      ]
     },
     "metadata": {
      "needs_background": "light"
     },
     "output_type": "display_data"
    }
   ],
   "source": [
    "plt.scatter(x,y)"
   ]
  },
  {
   "cell_type": "code",
   "execution_count": 105,
   "metadata": {},
   "outputs": [],
   "source": [
    "W = np.linspace(0,5,1000)\n",
    "def my_fit(n):\n",
    "    Y = 4*np.sin(n*W) + 4 #把函數中心點放到4、震幅變4倍\n",
    "    plt.scatter(x,y)\n",
    "    plt.plot(W,Y,'r')\n",
    "    plt.show()"
   ]
  },
  {
   "cell_type": "code",
   "execution_count": 106,
   "metadata": {},
   "outputs": [
    {
     "data": {
      "image/png": "[encoded data removed]",
      "text/plain": [
       "<Figure size 432x288 with 1 Axes>"
      ]
     },
     "metadata": {
      "needs_background": "light"
     },
     "output_type": "display_data"
    }
   ],
   "source": [
    "my_fit(5)"
   ]
  },
  {
   "cell_type": "code",
   "execution_count": 107,
   "metadata": {},
   "outputs": [
    {
     "data": {
      "application/vnd.jupyter.widget-view+json": {
       "model_id": "dc677517ed1749bf94dbcd38d2e2845b",
       "version_major": 2,
       "version_minor": 0
      },
      "text/plain": [
       "interactive(children=(IntSlider(value=250, description='n', max=500, min=1), Output()), _dom_classes=('widget-…"
      ]
     },
     "metadata": {},
     "output_type": "display_data"
    },
    {
     "data": {
      "text/plain": [
       "<function __main__.my_fit(n)>"
      ]
     },
     "execution_count": 107,
     "metadata": {},
     "output_type": "execute_result"
    }
   ],
   "source": [
    "interact(my_fit,n= (1,500))"
   ]
  },
  {
   "cell_type": "markdown",
   "metadata": {},
   "source": [
    "## 0606訓練資料和測試資料"
   ]
  },
  {
   "cell_type": "code",
   "execution_count": 108,
   "metadata": {},
   "outputs": [
    {
     "data": {
      "text/plain": [
       "<matplotlib.collections.PathCollection at 0x24190080f40>"
      ]
     },
     "execution_count": 108,
     "metadata": {},
     "output_type": "execute_result"
    },
    {
     "data": {
      "image/png": "[encoded data removed]",
      "text/plain": [
       "<Figure size 432x288 with 1 Axes>"
      ]
     },
     "metadata": {
      "needs_background": "light"
     },
     "output_type": "display_data"
    }
   ],
   "source": [
    "x = np.linspace(0,5,100)\n",
    "y = 1.2*x + 0.8 + 0.5*np.random.randn(100)\n",
    "plt.scatter(x,y)"
   ]
  },
  {
   "cell_type": "markdown",
   "metadata": {},
   "source": [
    "### 80%拿去訓練；剩下的20%拿去測試:\n",
    "![f](train_test.jpg)"
   ]
  },
  {
   "cell_type": "code",
   "execution_count": 109,
   "metadata": {},
   "outputs": [],
   "source": [
    "from sklearn.model_selection import train_test_split\n",
    "#把原來的x,y 中的80%給training data；20%給testing data"
   ]
  },
  {
   "cell_type": "code",
   "execution_count": 110,
   "metadata": {},
   "outputs": [],
   "source": [
    "x_train, x_test, y_train, y_test = train_test_split(x,y,\n",
    "                                                   test_size=0.2, #測試資料佔20%\n",
    "                                                   random_state = 87) #讓亂數不會每次取的亂數都一樣"
   ]
  },
  {
   "cell_type": "markdown",
   "metadata": {},
   "source": [
    "![f](testdata.jpg)"
   ]
  },
  {
   "cell_type": "code",
   "execution_count": 111,
   "metadata": {},
   "outputs": [
    {
     "data": {
      "text/plain": [
       "array([3.38383838, 2.72727273, 1.86868687, 3.83838384, 1.41414141,\n",
       "       0.05050505, 4.19191919, 4.54545455, 2.82828283, 0.1010101 ,\n",
       "       0.60606061, 4.94949495, 1.36363636, 0.25252525, 3.58585859,\n",
       "       0.85858586, 1.21212121, 3.33333333, 2.62626263, 3.43434343,\n",
       "       3.48484848, 2.77777778, 3.68686869, 0.2020202 , 4.74747475,\n",
       "       4.34343434, 0.65656566, 1.71717172, 1.11111111, 1.51515152,\n",
       "       4.7979798 , 2.17171717, 2.47474747, 1.91919192, 0.90909091,\n",
       "       2.52525253, 3.18181818, 1.06060606, 2.27272727, 4.6969697 ,\n",
       "       2.42424242, 2.67676768, 4.14141414, 3.23232323, 1.56565657,\n",
       "       1.81818182, 3.93939394, 2.37373737, 2.32323232, 0.4040404 ,\n",
       "       3.98989899, 0.50505051, 2.07070707, 4.04040404, 2.87878788,\n",
       "       3.13131313, 4.8989899 , 0.70707071, 4.5959596 , 3.78787879,\n",
       "       1.01010101, 4.44444444, 0.55555556, 1.16161616, 4.49494949,\n",
       "       4.39393939, 2.02020202, 1.76767677, 0.95959596, 3.63636364,\n",
       "       2.12121212, 3.08080808, 3.03030303, 0.45454545, 2.57575758,\n",
       "       4.84848485, 0.3030303 , 0.75757576, 2.97979798, 3.88888889])"
      ]
     },
     "execution_count": 111,
     "metadata": {},
     "output_type": "execute_result"
    }
   ],
   "source": [
    "x_train"
   ]
  },
  {
   "cell_type": "code",
   "execution_count": 112,
   "metadata": {},
   "outputs": [
    {
     "data": {
      "text/plain": [
       "80"
      ]
     },
     "execution_count": 112,
     "metadata": {},
     "output_type": "execute_result"
    }
   ],
   "source": [
    "len(x_train)"
   ]
  },
  {
   "cell_type": "code",
   "execution_count": 113,
   "metadata": {},
   "outputs": [],
   "source": [
    "x_train = x_train.reshape(80,1)"
   ]
  },
  {
   "cell_type": "code",
   "execution_count": 114,
   "metadata": {},
   "outputs": [
    {
     "data": {
      "text/plain": [
       "array([[3.38383838],\n",
       "       [2.72727273],\n",
       "       [1.86868687],\n",
       "       [3.83838384],\n",
       "       [1.41414141],\n",
       "       [0.05050505],\n",
       "       [4.19191919],\n",
       "       [4.54545455],\n",
       "       [2.82828283],\n",
       "       [0.1010101 ],\n",
       "       [0.60606061],\n",
       "       [4.94949495],\n",
       "       [1.36363636],\n",
       "       [0.25252525],\n",
       "       [3.58585859],\n",
       "       [0.85858586],\n",
       "       [1.21212121],\n",
       "       [3.33333333],\n",
       "       [2.62626263],\n",
       "       [3.43434343],\n",
       "       [3.48484848],\n",
       "       [2.77777778],\n",
       "       [3.68686869],\n",
       "       [0.2020202 ],\n",
       "       [4.74747475],\n",
       "       [4.34343434],\n",
       "       [0.65656566],\n",
       "       [1.71717172],\n",
       "       [1.11111111],\n",
       "       [1.51515152],\n",
       "       [4.7979798 ],\n",
       "       [2.17171717],\n",
       "       [2.47474747],\n",
       "       [1.91919192],\n",
       "       [0.90909091],\n",
       "       [2.52525253],\n",
       "       [3.18181818],\n",
       "       [1.06060606],\n",
       "       [2.27272727],\n",
       "       [4.6969697 ],\n",
       "       [2.42424242],\n",
       "       [2.67676768],\n",
       "       [4.14141414],\n",
       "       [3.23232323],\n",
       "       [1.56565657],\n",
       "       [1.81818182],\n",
       "       [3.93939394],\n",
       "       [2.37373737],\n",
       "       [2.32323232],\n",
       "       [0.4040404 ],\n",
       "       [3.98989899],\n",
       "       [0.50505051],\n",
       "       [2.07070707],\n",
       "       [4.04040404],\n",
       "       [2.87878788],\n",
       "       [3.13131313],\n",
       "       [4.8989899 ],\n",
       "       [0.70707071],\n",
       "       [4.5959596 ],\n",
       "       [3.78787879],\n",
       "       [1.01010101],\n",
       "       [4.44444444],\n",
       "       [0.55555556],\n",
       "       [1.16161616],\n",
       "       [4.49494949],\n",
       "       [4.39393939],\n",
       "       [2.02020202],\n",
       "       [1.76767677],\n",
       "       [0.95959596],\n",
       "       [3.63636364],\n",
       "       [2.12121212],\n",
       "       [3.08080808],\n",
       "       [3.03030303],\n",
       "       [0.45454545],\n",
       "       [2.57575758],\n",
       "       [4.84848485],\n",
       "       [0.3030303 ],\n",
       "       [0.75757576],\n",
       "       [2.97979798],\n",
       "       [3.88888889]])"
      ]
     },
     "execution_count": 114,
     "metadata": {},
     "output_type": "execute_result"
    }
   ],
   "source": [
    "x_train"
   ]
  },
  {
   "cell_type": "code",
   "execution_count": 115,
   "metadata": {},
   "outputs": [
    {
     "data": {
      "text/plain": [
       "array([[0.80808081],\n",
       "       [4.09090909],\n",
       "       [4.29292929],\n",
       "       [1.61616162],\n",
       "       [1.96969697],\n",
       "       [1.26262626],\n",
       "       [1.31313131],\n",
       "       [1.46464646],\n",
       "       [3.28282828],\n",
       "       [0.35353535],\n",
       "       [4.24242424],\n",
       "       [5.        ],\n",
       "       [2.92929293],\n",
       "       [3.53535354],\n",
       "       [4.64646465],\n",
       "       [3.73737374],\n",
       "       [0.15151515],\n",
       "       [0.        ],\n",
       "       [2.22222222],\n",
       "       [1.66666667]])"
      ]
     },
     "execution_count": 115,
     "metadata": {},
     "output_type": "execute_result"
    }
   ],
   "source": [
    "x_test.shape = (20,1)\n",
    "#另一種改法\n",
    "x_test"
   ]
  },
  {
   "cell_type": "code",
   "execution_count": 116,
   "metadata": {},
   "outputs": [],
   "source": [
    "#訓練\n",
    "from sklearn.linear_model import LinearRegression\n",
    "regr = LinearRegression()    #開一台 regression機"
   ]
  },
  {
   "cell_type": "code",
   "execution_count": 117,
   "metadata": {},
   "outputs": [
    {
     "data": {
      "text/plain": [
       "LinearRegression()"
      ]
     },
     "execution_count": 117,
     "metadata": {},
     "output_type": "execute_result"
    }
   ],
   "source": [
    "regr.fit(x_train,y_train) #訓練80%的training data\n",
    "#用訓練資料來fit函數"
   ]
  },
  {
   "cell_type": "code",
   "execution_count": 118,
   "metadata": {},
   "outputs": [
    {
     "data": {
      "text/plain": [
       "[<matplotlib.lines.Line2D at 0x24190228be0>]"
      ]
     },
     "execution_count": 118,
     "metadata": {},
     "output_type": "execute_result"
    },
    {
     "data": {
      "image/png": "[encoded data removed]",
      "text/plain": [
       "<Figure size 432x288 with 1 Axes>"
      ]
     },
     "metadata": {
      "needs_background": "light"
     },
     "output_type": "display_data"
    }
   ],
   "source": [
    "plt.scatter(x_train,y_train)\n",
    "plt.plot(x_train,regr.predict(x_train),'r')    #regr機器去做predit"
   ]
  },
  {
   "cell_type": "markdown",
   "metadata": {},
   "source": [
    "### 用測試資料試試我們預測的準不準"
   ]
  },
  {
   "cell_type": "code",
   "execution_count": 119,
   "metadata": {},
   "outputs": [
    {
     "data": {
      "text/plain": [
       "<matplotlib.collections.PathCollection at 0x2419025b670>"
      ]
     },
     "execution_count": 119,
     "metadata": {},
     "output_type": "execute_result"
    },
    {
     "data": {
      "image/png": "[encoded data removed]",
      "text/plain": [
       "<Figure size 432x288 with 1 Axes>"
      ]
     },
     "metadata": {
      "needs_background": "light"
     },
     "output_type": "display_data"
    }
   ],
   "source": [
    "plt.scatter(x_test,y_test)"
   ]
  },
  {
   "cell_type": "code",
   "execution_count": 120,
   "metadata": {},
   "outputs": [
    {
     "data": {
      "text/plain": [
       "[<matplotlib.lines.Line2D at 0x241902de0a0>]"
      ]
     },
     "execution_count": 120,
     "metadata": {},
     "output_type": "execute_result"
    },
    {
     "data": {
      "image/png": "[encoded data removed]",
      "text/plain": [
       "<Figure size 432x288 with 1 Axes>"
      ]
     },
     "metadata": {
      "needs_background": "light"
     },
     "output_type": "display_data"
    }
   ],
   "source": [
    "plt.scatter(x_test,y_test)\n",
    "plt.plot(x_test,regr.predict(x_test),'r') #testing data讓我們知道預測的好不好"
   ]
  },
  {
   "cell_type": "markdown",
   "metadata": {},
   "source": [
    "## 0607線性回歸預測波士噸房價"
   ]
  },
  {
   "cell_type": "code",
   "execution_count": 121,
   "metadata": {},
   "outputs": [],
   "source": [
    "%matplotlib inline\n",
    "import numpy as np\n",
    "import matplotlib.pyplot as plt\n"
   ]
  },
  {
   "cell_type": "code",
   "execution_count": 122,
   "metadata": {},
   "outputs": [],
   "source": [
    "from sklearn.linear_model import LinearRegression\n",
    "from sklearn.model_selection import train_test_split     #訓練資料跟測試資料 分開"
   ]
  },
  {
   "cell_type": "markdown",
   "metadata": {},
   "source": [
    "## 讀入boston 房價資訊"
   ]
  },
  {
   "cell_type": "code",
   "execution_count": 123,
   "metadata": {},
   "outputs": [],
   "source": [
    "#sklearn有提供數據套件(ex.load_boston、load_breast_cancer..)\n",
    "from sklearn.datasets import load_boston"
   ]
  },
  {
   "cell_type": "markdown",
   "metadata": {},
   "source": [
    "### 資料裡到底有什麼"
   ]
  },
  {
   "cell_type": "code",
   "execution_count": 124,
   "metadata": {},
   "outputs": [],
   "source": [
    "boston = load_boston()"
   ]
  },
  {
   "cell_type": "code",
   "execution_count": 125,
   "metadata": {},
   "outputs": [
    {
     "data": {
      "text/plain": [
       "array(['CRIM', 'ZN', 'INDUS', 'CHAS', 'NOX', 'RM', 'AGE', 'DIS', 'RAD',\n",
       "       'TAX', 'PTRATIO', 'B', 'LSTAT'], dtype='<U7')"
      ]
     },
     "execution_count": 125,
     "metadata": {},
     "output_type": "execute_result"
    }
   ],
   "source": [
    "boston.feature_names\n",
    "#用feature_names看資料中所有的feature"
   ]
  },
  {
   "cell_type": "code",
   "execution_count": 126,
   "metadata": {},
   "outputs": [],
   "source": [
    "X = boston.data #x的 training data\n",
    "Y = boston.target #正確的資料答案"
   ]
  },
  {
   "cell_type": "code",
   "execution_count": 127,
   "metadata": {},
   "outputs": [
    {
     "data": {
      "text/plain": [
       "506"
      ]
     },
     "execution_count": 127,
     "metadata": {},
     "output_type": "execute_result"
    }
   ],
   "source": [
    "len(X) #總資料數量"
   ]
  },
  {
   "cell_type": "code",
   "execution_count": 128,
   "metadata": {},
   "outputs": [],
   "source": [
    "#切割資料 訓練70%的資料\n",
    "x_train, x_test, y_train, y_test = train_test_split(X,Y,\n",
    "                                                   test_size = 0.3,\n",
    "                                                   random_state=87 ) #讓每次抽出來的亂數都一樣"
   ]
  },
  {
   "cell_type": "code",
   "execution_count": 129,
   "metadata": {},
   "outputs": [],
   "source": [
    "regr = LinearRegression()  #開一台線性回歸機"
   ]
  },
  {
   "cell_type": "code",
   "execution_count": 130,
   "metadata": {},
   "outputs": [
    {
     "data": {
      "text/plain": [
       "LinearRegression()"
      ]
     },
     "execution_count": 130,
     "metadata": {},
     "output_type": "execute_result"
    }
   ],
   "source": [
    "#fit一下(只能餵training data)\n",
    "regr.fit(x_train,y_train)"
   ]
  },
  {
   "cell_type": "code",
   "execution_count": 131,
   "metadata": {},
   "outputs": [],
   "source": [
    "#做一下預測\n",
    "y_predict = regr.predict(x_test)"
   ]
  },
  {
   "cell_type": "code",
   "execution_count": 132,
   "metadata": {},
   "outputs": [
    {
     "data": {
      "text/plain": [
       "[<matplotlib.lines.Line2D at 0x241903387c0>]"
      ]
     },
     "execution_count": 132,
     "metadata": {},
     "output_type": "execute_result"
    },
    {
     "data": {
      "image/png": "[encoded data removed]",
      "text/plain": [
       "<Figure size 432x288 with 1 Axes>"
      ]
     },
     "metadata": {
      "needs_background": "light"
     },
     "output_type": "display_data"
    }
   ],
   "source": [
    "plt.scatter(y_test,y_predict) #y_test是正確資料, y_predict是預測的答案\n",
    "#完全命中的話會在對角線上面\n",
    "plt.plot([0,50],[0,50],'r')#畫基準的對角線"
   ]
  },
  {
   "cell_type": "code",
   "execution_count": 133,
   "metadata": {},
   "outputs": [
    {
     "data": {
      "text/plain": [
       "Text(0, 0.5, 'Predicted Price')"
      ]
     },
     "execution_count": 133,
     "metadata": {},
     "output_type": "execute_result"
    },
    {
     "data": {
      "image/png": "[encoded data removed]",
      "text/plain": [
       "<Figure size 432x288 with 1 Axes>"
      ]
     },
     "metadata": {
      "needs_background": "light"
     },
     "output_type": "display_data"
    }
   ],
   "source": [
    "plt.scatter(y_test,y_predict)\n",
    "plt.plot([0,50],[0,50],'r')\n",
    "plt.xlabel('True Price') #x是真實的數據\n",
    "plt.ylabel('Predicted Price')#y是預測的數據"
   ]
  },
  {
   "cell_type": "code",
   "execution_count": 88,
   "metadata": {},
   "outputs": [],
   "source": [
    "#高房價的地方我們預測的資料會偏低\n",
    "#線性回歸預測房價的模型\n"
   ]
  },
  {
   "cell_type": "code",
   "execution_count": 134,
   "metadata": {},
   "outputs": [
    {
     "name": "stdout",
     "output_type": "stream",
     "text": [
      ".. _boston_dataset:\n",
      "\n",
      "Boston house prices dataset\n",
      "---------------------------\n",
      "\n",
      "**Data Set Characteristics:**  \n",
      "\n",
      "    :Number of Instances: 506 \n",
      "\n",
      "    :Number of Attributes: 13 numeric/categorical predictive. Median Value (attribute 14) is usually the target.\n",
      "\n",
      "    :Attribute Information (in order):\n",
      "        - CRIM     per capita crime rate by town\n",
      "        - ZN       proportion of residential land zoned for lots over 25,000 sq.ft.\n",
      "        - INDUS    proportion of non-retail business acres per town\n",
      "        - CHAS     Charles River dummy variable (= 1 if tract bounds river; 0 otherwise)\n",
      "        - NOX      nitric oxides concentration (parts per 10 million)\n",
      "        - RM       average number of rooms per dwelling\n",
      "        - AGE      proportion of owner-occupied units built prior to 1940\n",
      "        - DIS      weighted distances to five Boston employment centres\n",
      "        - RAD      index of accessibility to radial highways\n",
      "        - TAX      full-value property-tax rate per $10,000\n",
      "        - PTRATIO  pupil-teacher ratio by town\n",
      "        - B        1000(Bk - 0.63)^2 where Bk is the proportion of blacks by town\n",
      "        - LSTAT    % lower status of the population\n",
      "        - MEDV     Median value of owner-occupied homes in $1000's\n",
      "\n",
      "    :Missing Attribute Values: None\n",
      "\n",
      "    :Creator: Harrison, D. and Rubinfeld, D.L.\n",
      "\n",
      "This is a copy of UCI ML housing dataset.\n",
      "https://archive.ics.uci.edu/ml/machine-learning-databases/housing/\n",
      "\n",
      "\n",
      "This dataset was taken from the StatLib library which is maintained at Carnegie Mellon University.\n",
      "\n",
      "The Boston house-price data of Harrison, D. and Rubinfeld, D.L. 'Hedonic\n",
      "prices and the demand for clean air', J. Environ. Economics & Management,\n",
      "vol.5, 81-102, 1978.   Used in Belsley, Kuh & Welsch, 'Regression diagnostics\n",
      "...', Wiley, 1980.   N.B. Various transformations are used in the table on\n",
      "pages 244-261 of the latter.\n",
      "\n",
      "The Boston house-price data has been used in many machine learning papers that address regression\n",
      "problems.   \n",
      "     \n",
      ".. topic:: References\n",
      "\n",
      "   - Belsley, Kuh & Welsch, 'Regression diagnostics: Identifying Influential Data and Sources of Collinearity', Wiley, 1980. 244-261.\n",
      "   - Quinlan,R. (1993). Combining Instance-Based and Model-Based Learning. In Proceedings on the Tenth International Conference of Machine Learning, 236-243, University of Massachusetts, Amherst. Morgan Kaufmann.\n",
      "\n"
     ]
    }
   ],
   "source": [
    "#看資料的解釋的內容\n",
    "print(boston.DESCR)"
   ]
  },
  {
   "cell_type": "markdown",
   "metadata": {},
   "source": [
    "## 0608 畫出各feature和輸出(房價)的關係(承襲波士頓房價)"
   ]
  },
  {
   "cell_type": "markdown",
   "metadata": {},
   "source": [
    "### [小技巧1]善用enumerate"
   ]
  },
  {
   "cell_type": "code",
   "execution_count": 138,
   "metadata": {},
   "outputs": [],
   "source": [
    "L = ['A','B','C']"
   ]
  },
  {
   "cell_type": "code",
   "execution_count": 140,
   "metadata": {},
   "outputs": [
    {
     "name": "stdout",
     "output_type": "stream",
     "text": [
      "A\n",
      "B\n",
      "C\n"
     ]
    }
   ],
   "source": [
    "for i in L:\n",
    "    print(i)"
   ]
  },
  {
   "cell_type": "code",
   "execution_count": 142,
   "metadata": {},
   "outputs": [
    {
     "name": "stdout",
     "output_type": "stream",
     "text": [
      "1 A\n",
      "2 B\n",
      "3 C\n"
     ]
    }
   ],
   "source": [
    "for i in range(3):\n",
    "    print(i+1,L[i])"
   ]
  },
  {
   "cell_type": "markdown",
   "metadata": {},
   "source": [
    "### 讓python 自己去算裡面的元素到底是第幾個，不需要像前面一樣做其他指令\n",
    "![dff](enumerate.jpg)"
   ]
  },
  {
   "cell_type": "code",
   "execution_count": 144,
   "metadata": {},
   "outputs": [
    {
     "data": {
      "text/plain": [
       "[(0, 'A'), (1, 'B'), (2, 'C')]"
      ]
     },
     "execution_count": 144,
     "metadata": {},
     "output_type": "execute_result"
    }
   ],
   "source": [
    "list(enumerate(L))"
   ]
  },
  {
   "cell_type": "code",
   "execution_count": 145,
   "metadata": {},
   "outputs": [
    {
     "name": "stdout",
     "output_type": "stream",
     "text": [
      "(0, 'A')\n",
      "(1, 'B')\n",
      "(2, 'C')\n"
     ]
    }
   ],
   "source": [
    "for i in enumerate(L):\n",
    "    print(i) "
   ]
  },
  {
   "cell_type": "code",
   "execution_count": 148,
   "metadata": {},
   "outputs": [
    {
     "name": "stdout",
     "output_type": "stream",
     "text": [
      "1 A\n",
      "2 B\n",
      "3 C\n"
     ]
    }
   ],
   "source": [
    "for i, s in enumerate(L):   #i代表前項的index, s代表後項的字母\n",
    "    print(i+1,s)"
   ]
  },
  {
   "cell_type": "markdown",
   "metadata": {},
   "source": [
    "### [小技巧2] 畫多個圖"
   ]
  },
  {
   "cell_type": "code",
   "execution_count": 150,
   "metadata": {},
   "outputs": [],
   "source": [
    "x = np.linspace(-10,10,200)\n"
   ]
  },
  {
   "cell_type": "code",
   "execution_count": 153,
   "metadata": {},
   "outputs": [
    {
     "data": {
      "text/plain": [
       "[<matplotlib.lines.Line2D at 0x241904b37c0>]"
      ]
     },
     "execution_count": 153,
     "metadata": {},
     "output_type": "execute_result"
    },
    {
     "data": {
      "image/png": "[encoded data removed]",
      "text/plain": [
       "<Figure size 432x288 with 1 Axes>"
      ]
     },
     "metadata": {
      "needs_background": "light"
     },
     "output_type": "display_data"
    }
   ],
   "source": [
    "plt.plot(x,np.sin(x))\n",
    "plt.plot(x,np.cos(x))"
   ]
  },
  {
   "cell_type": "code",
   "execution_count": 154,
   "metadata": {},
   "outputs": [],
   "source": [
    "#但我們不希望圖併在一起"
   ]
  },
  {
   "cell_type": "code",
   "execution_count": 158,
   "metadata": {},
   "outputs": [
    {
     "data": {
      "text/plain": [
       "[<matplotlib.lines.Line2D at 0x241907c0100>]"
      ]
     },
     "execution_count": 158,
     "metadata": {},
     "output_type": "execute_result"
    },
    {
     "data": {
      "image/png": "[encoded data removed]",
      "text/plain": [
       "<Figure size 432x288 with 4 Axes>"
      ]
     },
     "metadata": {
      "needs_background": "light"
     },
     "output_type": "display_data"
    }
   ],
   "source": [
    "plt.subplot(2,2,1) #2,2代表2*2的矩陣的第一張圖\n",
    "plt.plot(x,np.sin(x))\n",
    "\n",
    "plt.subplot(2,2,2)\n",
    "plt.plot(x,np.cos(x))\n",
    "\n",
    "plt.subplot(2,2,3)\n",
    "plt.plot(x,x)\n",
    "\n",
    "plt.subplot(2,2,4)\n",
    "plt.plot(x,x**2)\n"
   ]
  },
  {
   "cell_type": "markdown",
   "metadata": {},
   "source": [
    "![f](subplot.jpg)"
   ]
  },
  {
   "cell_type": "code",
   "execution_count": null,
   "metadata": {},
   "outputs": [],
   "source": []
  }
 ],
 "metadata": {
  "kernelspec": {
   "display_name": "Python 3",
   "language": "python",
   "name": "python3"
  },
  "language_info": {
   "codemirror_mode": {
    "name": "ipython",
    "version": 3
   },
   "file_extension": ".py",
   "mimetype": "text/x-python",
   "name": "python",
   "nbconvert_exporter": "python",
   "pygments_lexer": "ipython3",
   "version": "3.8.5"
  }
 },
 "nbformat": 4,
 "nbformat_minor": 4
}
